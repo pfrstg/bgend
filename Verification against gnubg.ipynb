{
 "cells": [
  {
   "cell_type": "markdown",
   "metadata": {},
   "source": [
    "This notebook compares the gnubg bearoff database to our calculations. It assumes that you have generated the data files with these commands\n",
    "\n",
    "`./compute.py 15 6`\n",
    "\n",
    "`./gnubg_to_store.py ~/gnubg/gnubg-1.06.002/`\n",
    "\n",
    "For the latter, it should be a directory where you have the source of gnubg downloaded and made\n"
   ]
  },
  {
   "cell_type": "code",
   "execution_count": 1,
   "metadata": {},
   "outputs": [],
   "source": [
    "%load_ext autoreload\n",
    "%autoreload 2"
   ]
  },
  {
   "cell_type": "code",
   "execution_count": 24,
   "metadata": {},
   "outputs": [],
   "source": [
    "import numpy as np\n",
    "import matplotlib.pyplot as plt\n",
    "import pandas as pd\n",
    "\n",
    "import board\n",
    "import gnubg_interface\n",
    "import strategy"
   ]
  },
  {
   "cell_type": "markdown",
   "metadata": {},
   "source": [
    "# Load the data"
   ]
  },
  {
   "cell_type": "code",
   "execution_count": 3,
   "metadata": {},
   "outputs": [
    {
     "name": "stdout",
     "output_type": "stream",
     "text": [
      "total 50260\r\n",
      "-rw-rw-r-- 1 pfr pfr 27284736 Mar 23 22:29 bgend_store_15_6.hdf5\r\n",
      "-rw-rw-r-- 1 pfr pfr    37712 Mar 24 19:17 bgend_store_6_3.hdf5\r\n",
      "-rw-rw-r-- 1 pfr pfr 24134504 Mar 22 21:47 gnubg_store_15_6.hdf5\r\n"
     ]
    }
   ],
   "source": [
    "!ls -l data/"
   ]
  },
  {
   "cell_type": "code",
   "execution_count": 4,
   "metadata": {},
   "outputs": [
    {
     "name": "stdout",
     "output_type": "stream",
     "text": [
      "CPU times: user 22.6 s, sys: 489 ms, total: 23.1 s\n",
      "Wall time: 31.6 s\n"
     ]
    }
   ],
   "source": [
    "%%time\n",
    "our_store = strategy.DistributionStore.load_hdf5('data/bgend_store_15_6.hdf5')\n",
    "gnubg_store = strategy.DistributionStore.load_hdf5('data/gnubg_store_15_6.hdf5')"
   ]
  },
  {
   "cell_type": "code",
   "execution_count": 5,
   "metadata": {},
   "outputs": [
    {
     "name": "stdout",
     "output_type": "stream",
     "text": [
      "54264\n",
      "54264\n"
     ]
    }
   ],
   "source": [
    "print(len(our_store.distribution_map))\n",
    "print(len(gnubg_store.distribution_map))\n",
    "assert(len(our_store.distribution_map) == len(gnubg_store.distribution_map))"
   ]
  },
  {
   "cell_type": "markdown",
   "metadata": {},
   "source": [
    "# Examine the expected values"
   ]
  },
  {
   "cell_type": "code",
   "execution_count": 20,
   "metadata": {},
   "outputs": [],
   "source": [
    "board_ids = []\n",
    "our_expected_vals = []\n",
    "their_expected_vals = []\n",
    "for board_id in our_store.distribution_map:\n",
    "    ours = our_store.distribution_map[board_id]\n",
    "    theirs = gnubg_store.distribution_map[board_id]\n",
    "    \n",
    "    board_ids.append(board_id)\n",
    "    our_expected_vals.append(ours.expected_value())\n",
    "    their_expected_vals.append(theirs.expected_value())\n",
    "\n",
    "our_expected_vals = np.array(our_expected_vals)\n",
    "their_expected_vals = np.array(their_expected_vals)\n",
    "diff_expected_vals = our_expected_vals - their_expected_vals"
   ]
  },
  {
   "cell_type": "code",
   "execution_count": 21,
   "metadata": {},
   "outputs": [
    {
     "data": {
      "image/png": "[encoded data removed]",
      "text/plain": [
       "<Figure size 1008x360 with 2 Axes>"
      ]
     },
     "metadata": {
      "needs_background": "light"
     },
     "output_type": "display_data"
    }
   ],
   "source": [
    "fig, axes = plt.subplots(1, 2, figsize=(14, 5))\n",
    "axes[0].scatter(our_expected_vals, their_expected_vals, s=4)\n",
    "axes[0].set_xlabel('ours')\n",
    "axes[0].set_ylabel('theirs')\n",
    "\n",
    "axes[1].hist(diff_expected_vals, bins=20)\n",
    "\n",
    "pass"
   ]
  },
  {
   "cell_type": "code",
   "execution_count": 25,
   "metadata": {},
   "outputs": [
    {
     "data": {
      "text/html": [
       "<div>\n",
       "<style scoped>\n",
       "    .dataframe tbody tr th:only-of-type {\n",
       "        vertical-align: middle;\n",
       "    }\n",
       "\n",
       "    .dataframe tbody tr th {\n",
       "        vertical-align: top;\n",
       "    }\n",
       "\n",
       "    .dataframe thead th {\n",
       "        text-align: right;\n",
       "    }\n",
       "</style>\n",
       "<table border=\"1\" class=\"dataframe\">\n",
       "  <thead>\n",
       "    <tr style=\"text-align: right;\">\n",
       "      <th></th>\n",
       "      <th>quantile</th>\n",
       "      <th>value</th>\n",
       "    </tr>\n",
       "  </thead>\n",
       "  <tbody>\n",
       "    <tr>\n",
       "      <th>0</th>\n",
       "      <td>0.000</td>\n",
       "      <td>-0.000470</td>\n",
       "    </tr>\n",
       "    <tr>\n",
       "      <th>1</th>\n",
       "      <td>0.001</td>\n",
       "      <td>-0.000293</td>\n",
       "    </tr>\n",
       "    <tr>\n",
       "      <th>2</th>\n",
       "      <td>0.010</td>\n",
       "      <td>-0.000205</td>\n",
       "    </tr>\n",
       "    <tr>\n",
       "      <th>3</th>\n",
       "      <td>0.990</td>\n",
       "      <td>0.000187</td>\n",
       "    </tr>\n",
       "    <tr>\n",
       "      <th>4</th>\n",
       "      <td>0.999</td>\n",
       "      <td>0.000264</td>\n",
       "    </tr>\n",
       "    <tr>\n",
       "      <th>5</th>\n",
       "      <td>1.000</td>\n",
       "      <td>0.000363</td>\n",
       "    </tr>\n",
       "  </tbody>\n",
       "</table>\n",
       "</div>"
      ],
      "text/plain": [
       "   quantile     value\n",
       "0     0.000 -0.000470\n",
       "1     0.001 -0.000293\n",
       "2     0.010 -0.000205\n",
       "3     0.990  0.000187\n",
       "4     0.999  0.000264\n",
       "5     1.000  0.000363"
      ]
     },
     "execution_count": 25,
     "metadata": {},
     "output_type": "execute_result"
    }
   ],
   "source": [
    "quantiles = [0, 0.001, 0.01, .99, .999, 1]\n",
    "pd.DataFrame.from_dict({'quantile': quantiles, \n",
    "                        'value': np.quantile(diff_expected_vals, quantiles)})"
   ]
  },
  {
   "cell_type": "markdown",
   "metadata": {},
   "source": [
    "# Examine the probabilities"
   ]
  },
  {
   "cell_type": "code",
   "execution_count": null,
   "metadata": {},
   "outputs": [],
   "source": [
    "# The 1e-4 threshold is because of the limited precision from going through the text parsing from gnubg\n",
    "total_boards = 0\n",
    "total_correct = 0\n",
    "for board_id in our_store.distribution_map:\n",
    "    total_boards += 1\n",
    "    ours_orig = our_store.distribution_map[board_id]\n",
    "    ours = ours_orig.trim_low_prob(1e-5)\n",
    "    theirs = gnubg_store.distribution_map[board_id]\n",
    "    if len(ours) != len(theirs):\n",
    "        print('Board ID {}, Position ID {}, different lengths\\nours(orig): {}\\nours(trim): {}\\ntheirs  : {}'\n",
    "              .format(board_id, gnubg_interface.board_id_to_gnubg_id_str(our_store.config, board_id), ours_orig, ours, theirs))\n",
    "        continue\n",
    "\n",
    "    if not np.allclose(ours.dist, theirs.dist, atol=1e-4):\n",
    "        print('Board ID {}, Position ID {}, mismatch\\nours(orig): {}\\nours(trim): {}\\ntheirs  : {}'\n",
    "              .format(board_id, gnubg_interface.board_id_to_gnubg_id_str(our_store.config, board_id), ours_orig, ours, theirs))\n",
    "        continue\n",
    "        \n",
    "    total_correct += 1\n",
    "    \n",
    "print('{}/{} correct ({:.2f}%)'.format(total_correct, total_boards, total_correct / total_boards))"
   ]
  },
  {
   "cell_type": "code",
   "execution_count": null,
   "metadata": {},
   "outputs": [],
   "source": []
  }
 ],
 "metadata": {
  "kernelspec": {
   "display_name": "Python 3",
   "language": "python",
   "name": "python3"
  },
  "language_info": {
   "codemirror_mode": {
    "name": "ipython",
    "version": 3
   },
   "file_extension": ".py",
   "mimetype": "text/x-python",
   "name": "python",
   "nbconvert_exporter": "python",
   "pygments_lexer": "ipython3",
   "version": "3.6.9"
  }
 },
 "nbformat": 4,
 "nbformat_minor": 4
}
