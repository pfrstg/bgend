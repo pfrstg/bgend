{
 "cells": [
  {
   "cell_type": "markdown",
   "metadata": {},
   "source": [
    "This notebook compares the gnubg bearoff database to our calculations. It assumes that you have generated the data files with these commands\n",
    "\n",
    "`./compute.py 15 6`\n",
    "\n",
    "`./gnubg_to_store.py ~/gnubg/gnubg-1.06.002/`\n",
    "\n",
    "For the latter, it shoudl be a directory where you have the source of gnubg downloaded and made\n"
   ]
  },
  {
   "cell_type": "code",
   "execution_count": 1,
   "metadata": {},
   "outputs": [],
   "source": [
    "%load_ext autoreload\n",
    "%autoreload 2"
   ]
  },
  {
   "cell_type": "code",
   "execution_count": 16,
   "metadata": {},
   "outputs": [],
   "source": [
    "import numpy as np\n",
    "\n",
    "import board\n",
    "import strategy"
   ]
  },
  {
   "cell_type": "code",
   "execution_count": 4,
   "metadata": {},
   "outputs": [
    {
     "name": "stdout",
     "output_type": "stream",
     "text": [
      "Starting compute on 84 boards\n",
      "total 23616\n",
      "-rw-rw-r-- 1 pfr pfr      800 Mar 23 21:01 bgend_store_15_6.hdf5\n",
      "-rw-rw-r-- 1 pfr pfr    37712 Mar 23 21:13 bgend_store_6_3.hdf5\n",
      "-rw-rw-r-- 1 pfr pfr 24134504 Mar 22 21:47 gnubg_store_15_6.hdf5\n",
      "total 23616\n",
      "-rw-rw-r-- 1 pfr pfr      800 Mar 23 21:01 bgend_store_15_6.hdf5\n",
      "-rw-rw-r-- 1 pfr pfr    37712 Mar 23 21:13 bgend_store_6_3.hdf5\n",
      "-rw-rw-r-- 1 pfr pfr 24134504 Mar 22 21:47 gnubg_store_15_6.hdf5\n"
     ]
    }
   ],
   "source": [
    "!./compute.py 6 3\n",
    "!ls -l data/\n",
    "import h5py\n",
    "with h5py.File('data/bgend_store_6_3.hdf5', \"r\") as f:\n",
    "    pass\n",
    "!ls -l data/"
   ]
  },
  {
   "cell_type": "code",
   "execution_count": 10,
   "metadata": {},
   "outputs": [
    {
     "name": "stdout",
     "output_type": "stream",
     "text": [
      "CPU times: user 11.1 s, sys: 288 ms, total: 11.4 s\n",
      "Wall time: 11.4 s\n"
     ]
    }
   ],
   "source": [
    "%%time\n",
    "our_store = strategy.DistributionStore.load_hdf5('data/bgend_store_6_3.hdf5')\n",
    "gnubg_store = strategy.DistributionStore.load_hdf5('data/gnubg_store_15_6.hdf5')"
   ]
  },
  {
   "cell_type": "code",
   "execution_count": 11,
   "metadata": {},
   "outputs": [
    {
     "name": "stdout",
     "output_type": "stream",
     "text": [
      "84\n",
      "54264\n"
     ]
    }
   ],
   "source": [
    "print(len(our_store.distribution_map))\n",
    "print(len(gnubg_store.distribution_map))"
   ]
  },
  {
   "cell_type": "code",
   "execution_count": 18,
   "metadata": {},
   "outputs": [],
   "source": [
    "for board_id in our_store.distribution_map:\n",
    "    ours = our_store.distribution_map[board_id]\n",
    "    #theirs = gnubg_store.distribution_map[board_id]\n",
    "    theirs = our_store.distribution_map[board_id]\n",
    "    if len(ours) != len(theirs):\n",
    "        print('Board ID {}, different lengths, ours={}, theirs={}'.format(board_id, ours, theirs))\n",
    "        continue\n",
    "    # The atol of 1e-5 is because of the limited precision from going through the text parsing from gnubg\n",
    "    if nnp.allclose(ours.dist, theirs.dist, atol=1e-5):\n",
    "        print('Board ID {}, different lengths, ours={}, theirs={}'.format(board_id, ours, theirs))\n",
    "        continue"
   ]
  },
  {
   "cell_type": "code",
   "execution_count": null,
   "metadata": {},
   "outputs": [],
   "source": []
  }
 ],
 "metadata": {
  "kernelspec": {
   "display_name": "Python 3",
   "language": "python",
   "name": "python3"
  },
  "language_info": {
   "codemirror_mode": {
    "name": "ipython",
    "version": 3
   },
   "file_extension": ".py",
   "mimetype": "text/x-python",
   "name": "python",
   "nbconvert_exporter": "python",
   "pygments_lexer": "ipython3",
   "version": "3.6.9"
  }
 },
 "nbformat": 4,
 "nbformat_minor": 4
}
