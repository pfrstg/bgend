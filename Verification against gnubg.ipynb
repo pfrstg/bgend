{
 "cells": [
  {
   "cell_type": "markdown",
   "metadata": {},
   "source": [
    "This notebook compares the gnubg bearoff database to our calculations. It assumes that you have generated the data files with these commands\n",
    "\n",
    "`./compute.py 15 6`\n",
    "\n",
    "`./gnubg_to_store.py ~/gnubg/gnubg-1.06.002/`\n",
    "\n",
    "For the latter, it should be a directory where you have the source of gnubg downloaded and made\n"
   ]
  },
  {
   "cell_type": "code",
   "execution_count": 1,
   "metadata": {},
   "outputs": [],
   "source": [
    "%load_ext autoreload\n",
    "%autoreload 2"
   ]
  },
  {
   "cell_type": "code",
   "execution_count": 2,
   "metadata": {},
   "outputs": [],
   "source": [
    "import numpy as np\n",
    "\n",
    "import board\n",
    "import gnubg_interface\n",
    "import strategy"
   ]
  },
  {
   "cell_type": "code",
   "execution_count": 3,
   "metadata": {},
   "outputs": [
    {
     "name": "stdout",
     "output_type": "stream",
     "text": [
      "total 50260\r\n",
      "-rw-rw-r-- 1 pfr pfr 27284736 Mar 23 22:29 bgend_store_15_6.hdf5\r\n",
      "-rw-rw-r-- 1 pfr pfr    37712 Mar 24 19:17 bgend_store_6_3.hdf5\r\n",
      "-rw-rw-r-- 1 pfr pfr 24134504 Mar 22 21:47 gnubg_store_15_6.hdf5\r\n"
     ]
    }
   ],
   "source": [
    "!ls -l data/"
   ]
  },
  {
   "cell_type": "code",
   "execution_count": 4,
   "metadata": {},
   "outputs": [
    {
     "name": "stdout",
     "output_type": "stream",
     "text": [
      "CPU times: user 22.6 s, sys: 489 ms, total: 23.1 s\n",
      "Wall time: 31.6 s\n"
     ]
    }
   ],
   "source": [
    "%%time\n",
    "our_store = strategy.DistributionStore.load_hdf5('data/bgend_store_15_6.hdf5')\n",
    "gnubg_store = strategy.DistributionStore.load_hdf5('data/gnubg_store_15_6.hdf5')"
   ]
  },
  {
   "cell_type": "code",
   "execution_count": 5,
   "metadata": {},
   "outputs": [
    {
     "name": "stdout",
     "output_type": "stream",
     "text": [
      "54264\n",
      "54264\n"
     ]
    }
   ],
   "source": [
    "print(len(our_store.distribution_map))\n",
    "print(len(gnubg_store.distribution_map))\n",
    "assert(len(our_store.distribution_map) == len(gnubg_store.distribution_map))"
   ]
  },
  {
   "cell_type": "code",
   "execution_count": null,
   "metadata": {},
   "outputs": [],
   "source": [
    "# The 1e-4 threshold is because of the limited precision from going through the text parsing from gnubg\n",
    "total_boards = 0\n",
    "total_correct = 0\n",
    "for board_id in our_store.distribution_map:\n",
    "    total_boards += 1\n",
    "    ours_orig = our_store.distribution_map[board_id]\n",
    "    ours = ours_orig.trim_low_prob(1e-5)\n",
    "    theirs = gnubg_store.distribution_map[board_id]\n",
    "    if len(ours) != len(theirs):\n",
    "        print('Board ID {}, Position ID {}, different lengths\\nours(orig): {}\\nours(trim): {}\\ntheirs  : {}'\n",
    "              .format(board_id, gnubg_interface.board_id_to_gnubg_id_str(our_store.config, board_id), ours_orig, ours, theirs))\n",
    "        continue\n",
    "\n",
    "    if not np.allclose(ours.dist, theirs.dist, atol=1e-4):\n",
    "        print('Board ID {}, Position ID {}, mismatch\\nours(orig): {}\\nours(trim): {}\\ntheirs  : {}'\n",
    "              .format(board_id, gnubg_interface.board_id_to_gnubg_id_str(our_store.config, board_id), ours_orig, ours, theirs))\n",
    "        continue\n",
    "        \n",
    "    total_correct += 1\n",
    "    \n",
    "print('{}/{} correct ({:.2f}%)'.format(total_correct, total_boards, total_correct / total_boards))"
   ]
  },
  {
   "cell_type": "code",
   "execution_count": null,
   "metadata": {},
   "outputs": [],
   "source": []
  }
 ],
 "metadata": {
  "kernelspec": {
   "display_name": "Python 3",
   "language": "python",
   "name": "python3"
  },
  "language_info": {
   "codemirror_mode": {
    "name": "ipython",
    "version": 3
   },
   "file_extension": ".py",
   "mimetype": "text/x-python",
   "name": "python",
   "nbconvert_exporter": "python",
   "pygments_lexer": "ipython3",
   "version": "3.6.9"
  }
 },
 "nbformat": 4,
 "nbformat_minor": 4
}
