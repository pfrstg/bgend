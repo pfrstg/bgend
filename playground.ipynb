{
 "cells": [
  {
   "cell_type": "code",
   "execution_count": 19,
   "metadata": {},
   "outputs": [
    {
     "name": "stdout",
     "output_type": "stream",
     "text": "The autoreload extension is already loaded. To reload it, use:\n  %reload_ext autoreload\n"
    }
   ],
   "source": "%load_ext autoreload\n%autoreload 2"
  },
  {
   "cell_type": "code",
   "execution_count": 158,
   "metadata": {},
   "outputs": [],
   "source": "import board\nimport strategy"
  },
  {
   "cell_type": "code",
   "execution_count": 21,
   "metadata": {},
   "outputs": [
    {
     "data": {
      "text/plain": "Move(spot=6, count=4)"
     },
     "execution_count": 21,
     "metadata": {},
     "output_type": "execute_result"
    }
   ],
   "source": "board.Move(6, 4)"
  },
  {
   "cell_type": "code",
   "execution_count": 26,
   "metadata": {},
   "outputs": [
    {
     "data": {
      "text/plain": "[Roll(dice=[1, 1, 1, 1], prob=0.027777777777777776),\n Roll(dice=[1, 2], prob=0.05555555555555555),\n Roll(dice=[1, 3], prob=0.05555555555555555),\n Roll(dice=[1, 4], prob=0.05555555555555555),\n Roll(dice=[1, 5], prob=0.05555555555555555),\n Roll(dice=[1, 6], prob=0.05555555555555555),\n Roll(dice=[2, 2, 2, 2], prob=0.027777777777777776),\n Roll(dice=[2, 3], prob=0.05555555555555555),\n Roll(dice=[2, 4], prob=0.05555555555555555),\n Roll(dice=[2, 5], prob=0.05555555555555555),\n Roll(dice=[2, 6], prob=0.05555555555555555),\n Roll(dice=[3, 3, 3, 3], prob=0.027777777777777776),\n Roll(dice=[3, 4], prob=0.05555555555555555),\n Roll(dice=[3, 5], prob=0.05555555555555555),\n Roll(dice=[3, 6], prob=0.05555555555555555),\n Roll(dice=[4, 4, 4, 4], prob=0.027777777777777776),\n Roll(dice=[4, 5], prob=0.05555555555555555),\n Roll(dice=[4, 6], prob=0.05555555555555555),\n Roll(dice=[5, 5, 5, 5], prob=0.027777777777777776),\n Roll(dice=[5, 6], prob=0.05555555555555555),\n Roll(dice=[6, 6, 6, 6], prob=0.027777777777777776)]"
     },
     "execution_count": 26,
     "metadata": {},
     "output_type": "execute_result"
    }
   ],
   "source": "board.ROLLS"
  },
  {
   "cell_type": "markdown",
   "metadata": {},
   "source": "## Pretty printing"
  },
  {
   "cell_type": "code",
   "execution_count": 85,
   "metadata": {},
   "outputs": [
    {
     "name": "stdout",
     "output_type": "stream",
     "text": "0 1 o   \n1 2 oo  \n2 3 ooo \n\n0 1 o   +   \n1 2 oo  | + \n2 3 ooo 4 1 \n\n"
    }
   ],
   "source": "board.initialize(6, 2)\n# Board state is 1 off, 2 on 1 spot, 3 on 2 spot\n# 11101101\nb = board.Board.from_index(0xED)\nprint(b.pretty_string())\n\nm1 = board.Move(spot=2, count=4)\nm2 = board.Move(spot=2, count=1)\nprint(b.pretty_string([m1, m2]))"
  },
  {
   "cell_type": "code",
   "execution_count": 95,
   "metadata": {
    "scrolled": true
   },
   "outputs": [
    {
     "name": "stdout",
     "output_type": "stream",
     "text": "0 2 oo \n1 1 o  \n2 1 o  \n3 1 o  \n4 1 o  \n\n0 2 oo   x +   \n1 1 o  x | |   \n2 1 o  | | |   \n3 1 o  2 3 6 x \n4 1 o        1 \n\n"
    }
   ],
   "source": "board.initialize(6, 4)\nb = board.Board([2, 1, 1, 1, 1])\nprint(b.pretty_string())\n\nm1 = board.Move(spot=3, count=2)\nm2 = board.Move(spot=3, count=3)\nm3 = board.Move(spot=3, count=6)\nm4 = board.Move(spot=4, count=1)\nprint(b.pretty_string([m1, m2, m3, m4]))"
  },
  {
   "cell_type": "markdown",
   "metadata": {},
   "source": "## Trying apply_move"
  },
  {
   "cell_type": "code",
   "execution_count": 115,
   "metadata": {},
   "outputs": [
    {
     "name": "stdout",
     "output_type": "stream",
     "text": "0 1 o   \n1 2 oo  \n2 3 ooo \n\nMove(spot=2, count=6)\n0 2 oo \n1 2 oo \n2 2 oo \n\nMove(spot=2, count=1)\n0 1 o   \n1 3 ooo \n2 2 oo  \n\nMove(spot=1, count=1)\n0 2 oo  \n1 1 o   \n2 3 ooo \n\n"
    }
   ],
   "source": "board.initialize(6, 2)\nb = board.Board([1, 2, 3])\nprint(b.pretty_string())\n\nfor m in [board.Move(2, 6), board.Move(2, 1), board.Move(1, 1)]:\n    print(m)\n    print(b.apply_move(m).pretty_string())"
  },
  {
   "cell_type": "code",
   "execution_count": 102,
   "metadata": {},
   "outputs": [
    {
     "ename": "ValueError",
     "evalue": "Invalid spot on Move(spot=0, count=6) on Board([1, 2, 3])",
     "output_type": "error",
     "traceback": [
      "\u001b[0;31m---------------------------------------------------------------------------\u001b[0m",
      "\u001b[0;31mValueError\u001b[0m                                Traceback (most recent call last)",
      "\u001b[0;32m<ipython-input-102-6c8973631860>\u001b[0m in \u001b[0;36m<module>\u001b[0;34m()\u001b[0m\n\u001b[1;32m      1\u001b[0m \u001b[0mboard\u001b[0m\u001b[0;34m.\u001b[0m\u001b[0minitialize\u001b[0m\u001b[0;34m(\u001b[0m\u001b[0;36m6\u001b[0m\u001b[0;34m,\u001b[0m \u001b[0;36m2\u001b[0m\u001b[0;34m)\u001b[0m\u001b[0;34m\u001b[0m\u001b[0;34m\u001b[0m\u001b[0m\n\u001b[1;32m      2\u001b[0m \u001b[0mb\u001b[0m \u001b[0;34m=\u001b[0m \u001b[0mboard\u001b[0m\u001b[0;34m.\u001b[0m\u001b[0mBoard\u001b[0m\u001b[0;34m(\u001b[0m\u001b[0;34m[\u001b[0m\u001b[0;36m1\u001b[0m\u001b[0;34m,\u001b[0m \u001b[0;36m2\u001b[0m\u001b[0;34m,\u001b[0m \u001b[0;36m3\u001b[0m\u001b[0;34m]\u001b[0m\u001b[0;34m)\u001b[0m\u001b[0;34m\u001b[0m\u001b[0;34m\u001b[0m\u001b[0m\n\u001b[0;32m----> 3\u001b[0;31m \u001b[0mb\u001b[0m\u001b[0;34m.\u001b[0m\u001b[0mapply_move\u001b[0m\u001b[0;34m(\u001b[0m\u001b[0mboard\u001b[0m\u001b[0;34m.\u001b[0m\u001b[0mMove\u001b[0m\u001b[0;34m(\u001b[0m\u001b[0;36m0\u001b[0m\u001b[0;34m,\u001b[0m \u001b[0;36m6\u001b[0m\u001b[0;34m)\u001b[0m\u001b[0;34m)\u001b[0m\u001b[0;34m\u001b[0m\u001b[0;34m\u001b[0m\u001b[0m\n\u001b[0m",
      "\u001b[0;32m/home/pfr/bgend/board.py\u001b[0m in \u001b[0;36mapply_move\u001b[0;34m(self, move)\u001b[0m\n\u001b[1;32m    161\u001b[0m         \u001b[0;32mif\u001b[0m \u001b[0mmove\u001b[0m\u001b[0;34m.\u001b[0m\u001b[0mspot\u001b[0m \u001b[0;34m<\u001b[0m \u001b[0;36m1\u001b[0m \u001b[0;32mor\u001b[0m \u001b[0mmove\u001b[0m\u001b[0;34m.\u001b[0m\u001b[0mspot\u001b[0m \u001b[0;34m>\u001b[0m \u001b[0m_num_spots\u001b[0m\u001b[0;34m:\u001b[0m\u001b[0;34m\u001b[0m\u001b[0;34m\u001b[0m\u001b[0m\n\u001b[1;32m    162\u001b[0m             raise ValueError(\"Invalid spot on %s on %s\" % (\n\u001b[0;32m--> 163\u001b[0;31m                 move, self))\n\u001b[0m\u001b[1;32m    164\u001b[0m         \u001b[0mnew_board\u001b[0m \u001b[0;34m=\u001b[0m \u001b[0mcopy\u001b[0m\u001b[0;34m.\u001b[0m\u001b[0mdeepcopy\u001b[0m\u001b[0;34m(\u001b[0m\u001b[0mself\u001b[0m\u001b[0;34m)\u001b[0m\u001b[0;34m\u001b[0m\u001b[0;34m\u001b[0m\u001b[0m\n\u001b[1;32m    165\u001b[0m         \u001b[0mnew_board\u001b[0m\u001b[0;34m.\u001b[0m\u001b[0mspot_counts\u001b[0m\u001b[0;34m[\u001b[0m\u001b[0mmove\u001b[0m\u001b[0;34m.\u001b[0m\u001b[0mspot\u001b[0m\u001b[0;34m]\u001b[0m \u001b[0;34m-=\u001b[0m \u001b[0;36m1\u001b[0m\u001b[0;34m\u001b[0m\u001b[0;34m\u001b[0m\u001b[0m\n",
      "\u001b[0;31mValueError\u001b[0m: Invalid spot on Move(spot=0, count=6) on Board([1, 2, 3])"
     ]
    }
   ],
   "source": "board.initialize(6, 2)\nb = board.Board([1, 2, 3])\nb.apply_move(board.Move(0, 6))"
  },
  {
   "cell_type": "code",
   "execution_count": 108,
   "metadata": {},
   "outputs": [
    {
     "ename": "ValueError",
     "evalue": "No marker for Move(spot=1, count=1) on Board([3, 0, 3])",
     "output_type": "error",
     "traceback": [
      "\u001b[0;31m---------------------------------------------------------------------------\u001b[0m",
      "\u001b[0;31mValueError\u001b[0m                                Traceback (most recent call last)",
      "\u001b[0;32m<ipython-input-108-9cfee42d3418>\u001b[0m in \u001b[0;36m<module>\u001b[0;34m()\u001b[0m\n\u001b[1;32m      1\u001b[0m \u001b[0mboard\u001b[0m\u001b[0;34m.\u001b[0m\u001b[0minitialize\u001b[0m\u001b[0;34m(\u001b[0m\u001b[0;36m6\u001b[0m\u001b[0;34m,\u001b[0m \u001b[0;36m2\u001b[0m\u001b[0;34m)\u001b[0m\u001b[0;34m\u001b[0m\u001b[0;34m\u001b[0m\u001b[0m\n\u001b[1;32m      2\u001b[0m \u001b[0mb\u001b[0m \u001b[0;34m=\u001b[0m \u001b[0mboard\u001b[0m\u001b[0;34m.\u001b[0m\u001b[0mBoard\u001b[0m\u001b[0;34m(\u001b[0m\u001b[0;34m[\u001b[0m\u001b[0;36m3\u001b[0m\u001b[0;34m,\u001b[0m \u001b[0;36m0\u001b[0m\u001b[0;34m,\u001b[0m \u001b[0;36m3\u001b[0m\u001b[0;34m]\u001b[0m\u001b[0;34m)\u001b[0m\u001b[0;34m\u001b[0m\u001b[0;34m\u001b[0m\u001b[0m\n\u001b[0;32m----> 3\u001b[0;31m \u001b[0mb\u001b[0m\u001b[0;34m.\u001b[0m\u001b[0mapply_move\u001b[0m\u001b[0;34m(\u001b[0m\u001b[0mboard\u001b[0m\u001b[0;34m.\u001b[0m\u001b[0mMove\u001b[0m\u001b[0;34m(\u001b[0m\u001b[0;36m1\u001b[0m\u001b[0;34m,\u001b[0m \u001b[0;36m1\u001b[0m\u001b[0;34m)\u001b[0m\u001b[0;34m)\u001b[0m\u001b[0;34m\u001b[0m\u001b[0;34m\u001b[0m\u001b[0m\n\u001b[0m",
      "\u001b[0;32m/home/pfr/bgend/board.py\u001b[0m in \u001b[0;36mapply_move\u001b[0;34m(self, move)\u001b[0m\n\u001b[1;32m    158\u001b[0m         \u001b[0;32mif\u001b[0m \u001b[0mself\u001b[0m\u001b[0;34m.\u001b[0m\u001b[0mspot_counts\u001b[0m\u001b[0;34m[\u001b[0m\u001b[0mmove\u001b[0m\u001b[0;34m.\u001b[0m\u001b[0mspot\u001b[0m\u001b[0;34m]\u001b[0m \u001b[0;34m<\u001b[0m \u001b[0;36m1\u001b[0m\u001b[0;34m:\u001b[0m\u001b[0;34m\u001b[0m\u001b[0;34m\u001b[0m\u001b[0m\n\u001b[1;32m    159\u001b[0m             raise ValueError(\"No marker for %s on %s\" % (\n\u001b[0;32m--> 160\u001b[0;31m                 move, self))\n\u001b[0m\u001b[1;32m    161\u001b[0m         \u001b[0;32mif\u001b[0m \u001b[0mmove\u001b[0m\u001b[0;34m.\u001b[0m\u001b[0mspot\u001b[0m \u001b[0;34m<\u001b[0m \u001b[0;36m1\u001b[0m \u001b[0;32mor\u001b[0m \u001b[0mmove\u001b[0m\u001b[0;34m.\u001b[0m\u001b[0mspot\u001b[0m \u001b[0;34m>\u001b[0m \u001b[0m_num_spots\u001b[0m\u001b[0;34m:\u001b[0m\u001b[0;34m\u001b[0m\u001b[0;34m\u001b[0m\u001b[0m\n\u001b[1;32m    162\u001b[0m             raise ValueError(\"Invalid spot on %s on %s\" % (\n",
      "\u001b[0;31mValueError\u001b[0m: No marker for Move(spot=1, count=1) on Board([3, 0, 3])"
     ]
    }
   ],
   "source": "board.initialize(6, 2)\nb = board.Board([3, 0, 3])\nb.apply_move(board.Move(1, 1))"
  },
  {
   "cell_type": "code",
   "execution_count": 106,
   "metadata": {},
   "outputs": [
    {
     "ename": "ValueError",
     "evalue": "Overflow count Move(spot=1, count=6) invalid when spot 2 still has markers on Board([1, 2, 3])",
     "output_type": "error",
     "traceback": [
      "\u001b[0;31m---------------------------------------------------------------------------\u001b[0m",
      "\u001b[0;31mValueError\u001b[0m                                Traceback (most recent call last)",
      "\u001b[0;32m<ipython-input-106-f76e4c07cc25>\u001b[0m in \u001b[0;36m<module>\u001b[0;34m()\u001b[0m\n\u001b[1;32m      1\u001b[0m \u001b[0mboard\u001b[0m\u001b[0;34m.\u001b[0m\u001b[0minitialize\u001b[0m\u001b[0;34m(\u001b[0m\u001b[0;36m6\u001b[0m\u001b[0;34m,\u001b[0m \u001b[0;36m2\u001b[0m\u001b[0;34m)\u001b[0m\u001b[0;34m\u001b[0m\u001b[0;34m\u001b[0m\u001b[0m\n\u001b[1;32m      2\u001b[0m \u001b[0mb\u001b[0m \u001b[0;34m=\u001b[0m \u001b[0mboard\u001b[0m\u001b[0;34m.\u001b[0m\u001b[0mBoard\u001b[0m\u001b[0;34m(\u001b[0m\u001b[0;34m[\u001b[0m\u001b[0;36m1\u001b[0m\u001b[0;34m,\u001b[0m \u001b[0;36m2\u001b[0m\u001b[0;34m,\u001b[0m \u001b[0;36m3\u001b[0m\u001b[0;34m]\u001b[0m\u001b[0;34m)\u001b[0m\u001b[0;34m\u001b[0m\u001b[0;34m\u001b[0m\u001b[0m\n\u001b[0;32m----> 3\u001b[0;31m \u001b[0mb\u001b[0m\u001b[0;34m.\u001b[0m\u001b[0mapply_move\u001b[0m\u001b[0;34m(\u001b[0m\u001b[0mboard\u001b[0m\u001b[0;34m.\u001b[0m\u001b[0mMove\u001b[0m\u001b[0;34m(\u001b[0m\u001b[0;36m1\u001b[0m\u001b[0;34m,\u001b[0m \u001b[0;36m6\u001b[0m\u001b[0;34m)\u001b[0m\u001b[0;34m)\u001b[0m\u001b[0;34m\u001b[0m\u001b[0;34m\u001b[0m\u001b[0m\n\u001b[0m",
      "\u001b[0;32m/home/pfr/bgend/board.py\u001b[0m in \u001b[0;36mapply_move\u001b[0;34m(self, move)\u001b[0m\n\u001b[1;32m    170\u001b[0m                         (\"Overflow count %s invalid \" +\n\u001b[1;32m    171\u001b[0m                         \u001b[0;34m\"when spot %d still has markers on %s\"\u001b[0m\u001b[0;34m)\u001b[0m \u001b[0;34m%\u001b[0m \u001b[0;34m(\u001b[0m\u001b[0;34m\u001b[0m\u001b[0;34m\u001b[0m\u001b[0m\n\u001b[0;32m--> 172\u001b[0;31m                             move, i, self))\n\u001b[0m\u001b[1;32m    173\u001b[0m             \u001b[0;31m# TODO: verify there are no higher markers\u001b[0m\u001b[0;34m\u001b[0m\u001b[0;34m\u001b[0m\u001b[0;34m\u001b[0m\u001b[0m\n\u001b[1;32m    174\u001b[0m             \u001b[0mnew_board\u001b[0m\u001b[0;34m.\u001b[0m\u001b[0mspot_counts\u001b[0m\u001b[0;34m[\u001b[0m\u001b[0;36m0\u001b[0m\u001b[0;34m]\u001b[0m \u001b[0;34m+=\u001b[0m \u001b[0;36m1\u001b[0m\u001b[0;34m\u001b[0m\u001b[0;34m\u001b[0m\u001b[0m\n",
      "\u001b[0;31mValueError\u001b[0m: Overflow count Move(spot=1, count=6) invalid when spot 2 still has markers on Board([1, 2, 3])"
     ]
    }
   ],
   "source": "board.initialize(6, 2)\nb = board.Board([1, 2, 3])\nb.apply_move(board.Move(1, 6))"
  },
  {
   "cell_type": "code",
   "execution_count": 113,
   "metadata": {},
   "outputs": [
    {
     "name": "stdout",
     "output_type": "stream",
     "text": "True\nTrue\n"
    }
   ],
   "source": "board.initialize(6, 2)\nb1 = board.Board([1, 2, 3]) \nb2 = board.Board([1, 2, 3])\n\nprint(b1 == b2)\nprint(b1.spot_counts == b2.spot_counts)"
  },
  {
   "cell_type": "markdown",
   "metadata": {},
   "source": "## generate_moves"
  },
  {
   "cell_type": "code",
   "execution_count": 123,
   "metadata": {},
   "outputs": [
    {
     "name": "stdout",
     "output_type": "stream",
     "text": "0 1 o   + + \n1 2 oo  | | \n2 3 ooo 5 4 \n\n"
    }
   ],
   "source": "board.initialize(6, 2)\nb = board.Board([1, 2, 3]) \nfor m in b.generate_moves(board.Roll(dice=[5, 4], prob=0)):\n    print(b.pretty_string(m))"
  },
  {
   "cell_type": "code",
   "execution_count": 124,
   "metadata": {},
   "outputs": [
    {
     "name": "stdout",
     "output_type": "stream",
     "text": "0 1 o     x \n1 2 oo  x | \n2 3 ooo 1 2 \n\n0 1 o   x x \n1 2 oo  1 | \n2 3 ooo   2 \n\n"
    }
   ],
   "source": "board.initialize(6, 2)\nb = board.Board([1, 2, 3]) \nfor m in b.generate_moves(board.Roll(dice=[1, 2], prob=0)):\n    print(b.pretty_string(m))"
  },
  {
   "cell_type": "code",
   "execution_count": 146,
   "metadata": {},
   "outputs": [
    {
     "name": "stdout",
     "output_type": "stream",
     "text": "0 0   x x \n1 0   | | \n2 1 o | 2 \n3 0   |   \n4 1 o 4   \n\n0 0     + \n1 0     | \n2 1 o x 4 \n3 0   |   \n4 1 o 2   \n\n0 0   x x \n1 0   | | \n2 1 o 2 | \n3 0     | \n4 1 o   4 \n\n"
    }
   ],
   "source": "board.initialize(2, 4)\nb = board.Board([0, 0, 1, 0, 1]) \nfor m in b.generate_moves(board.Roll(dice=[4, 2], prob=0)):\n    print(b.pretty_string(m))"
  },
  {
   "cell_type": "code",
   "execution_count": 145,
   "metadata": {},
   "outputs": [
    {
     "name": "stdout",
     "output_type": "stream",
     "text": "0 0   x + \n1 0   | | \n2 1 o | 4 \n3 0   |   \n4 1 o 4   \n\n"
    }
   ],
   "source": "board.initialize(2, 4)\nb = board.Board([0, 0, 1, 0, 1]) \nfor m in b.generate_moves(board.Roll(dice=[4, 4], prob=0)):\n    print(b.pretty_string(m))"
  },
  {
   "cell_type": "code",
   "execution_count": 144,
   "metadata": {},
   "outputs": [
    {
     "name": "stdout",
     "output_type": "stream",
     "text": "0 0    + + \n1 1 o  | | \n2 0    | | \n3 2 oo 4 4 \n4 0        \n\n"
    }
   ],
   "source": "board.initialize(3, 4)\nb = board.Board([0, 1, 0, 2, 0]) \nfor m in b.generate_moves(board.Roll(dice=[4, 4], prob=0)):\n    print(b.pretty_string(m))"
  },
  {
   "cell_type": "code",
   "execution_count": 147,
   "metadata": {},
   "outputs": [
    {
     "name": "stdout",
     "output_type": "stream",
     "text": "0 0       \n1 0     x \n2 1 o   | \n3 0   x 2 \n4 1 o 1   \n\n0 0     x \n1 0     | \n2 1 o   2 \n3 0   x   \n4 1 o 1   \n\n0 0       \n1 0   x   \n2 1 o 1 x \n3 0     | \n4 1 o   2 \n\n0 0       \n1 0     x \n2 1 o x 1 \n3 0   |   \n4 1 o 2   \n\n0 0   x   \n1 0   |   \n2 1 o 2   \n3 0     x \n4 1 o   1 \n\n"
    }
   ],
   "source": "board.initialize(2, 4)\nb = board.Board([0, 0, 1, 0, 1]) \nfor m in b.generate_moves(board.Roll(dice=[1, 2], prob=0)):\n    print(b.pretty_string(m))"
  },
  {
   "cell_type": "code",
   "execution_count": 143,
   "metadata": {},
   "outputs": [
    {
     "name": "stdout",
     "output_type": "stream",
     "text": "0 0   x + \n1 0   | | \n2 1 o | 3 \n3 0   |   \n4 1 o 4   \n\n0 0     + \n1 0   x | \n2 1 o | 4 \n3 0   |   \n4 1 o 3   \n\n"
    }
   ],
   "source": "# This is the case where you have to try applying the dice in the opposite order!\nboard.initialize(2, 4)\nb = board.Board([0, 0, 1, 0, 1]) \nfor m in b.generate_moves(board.Roll(dice=[4, 3], prob=0)):\n    print(b.pretty_string(m))"
  },
  {
   "cell_type": "code",
   "execution_count": null,
   "metadata": {},
   "outputs": [],
   "source": ""
  },
  {
   "cell_type": "markdown",
   "metadata": {},
   "source": "## playing with chararray/np string arrays"
  },
  {
   "cell_type": "code",
   "execution_count": 48,
   "metadata": {},
   "outputs": [],
   "source": "import numpy as np"
  },
  {
   "cell_type": "code",
   "execution_count": 64,
   "metadata": {},
   "outputs": [],
   "source": "c = np.full([3, 3], ' ')\nc[0, 1] = 'x'\nc[1, 0] = 'y'\nc[1, 2] = 'y'\nc[2, 2] = 'z'"
  },
  {
   "cell_type": "code",
   "execution_count": 65,
   "metadata": {},
   "outputs": [
    {
     "name": "stdout",
     "output_type": "stream",
     "text": "[[' ' 'x' ' ']\n ['y' ' ' 'y']\n [' ' ' ' 'z']]\n"
    }
   ],
   "source": "print(c)"
  },
  {
   "cell_type": "code",
   "execution_count": 67,
   "metadata": {},
   "outputs": [
    {
     "data": {
      "text/plain": "array([[' ', 'x', ' '],\n       ['y', ' ', 'y'],\n       [' ', ' ', 'z']],\n      dtype='<U1')"
     },
     "execution_count": 67,
     "metadata": {},
     "output_type": "execute_result"
    }
   ],
   "source": "np.char.join('AAA', c)"
  },
  {
   "cell_type": "code",
   "execution_count": 71,
   "metadata": {},
   "outputs": [
    {
     "data": {
      "text/plain": "array([' ', 'x', ' '],\n      dtype='<U1')"
     },
     "execution_count": 71,
     "metadata": {},
     "output_type": "execute_result"
    }
   ],
   "source": "c[0]"
  },
  {
   "cell_type": "code",
   "execution_count": 70,
   "metadata": {},
   "outputs": [
    {
     "data": {
      "text/plain": "array([' ', 'x', ' '],\n      dtype='<U1')"
     },
     "execution_count": 70,
     "metadata": {},
     "output_type": "execute_result"
    }
   ],
   "source": "np.char.join('AAA', c[0])"
  },
  {
   "cell_type": "code",
   "execution_count": 73,
   "metadata": {},
   "outputs": [
    {
     "name": "stdout",
     "output_type": "stream",
     "text": "[[' ' 'x' ' ']\n ['y' ' ' 'y']\n [' ' ' ' 'z']]\n"
    }
   ],
   "source": "print(np.array2string(c))"
  },
  {
   "cell_type": "code",
   "execution_count": 74,
   "metadata": {},
   "outputs": [
    {
     "data": {
      "text/plain": "[10, 9, 8, 7, 6, 5, 4, 3, 2, 1]"
     },
     "execution_count": 74,
     "metadata": {},
     "output_type": "execute_result"
    }
   ],
   "source": "list(range(10, 0, -1))"
  },
  {
   "cell_type": "markdown",
   "metadata": {},
   "source": "## Playing with MoveCountDistribution"
  },
  {
   "cell_type": "code",
   "execution_count": 161,
   "metadata": {},
   "outputs": [
    {
     "name": "stdout",
     "output_type": "stream",
     "text": "[ 0.6  0.4]\n"
    }
   ],
   "source": "d1 = strategy.MoveCountDistribution([0.6, 0.4])\nd2 = strategy.MoveCountDistribution([0.1, 0.9])\nprint(d1.dist)\n#d1 + d2"
  },
  {
   "cell_type": "code",
   "execution_count": null,
   "metadata": {},
   "outputs": [],
   "source": ""
  }
 ],
 "metadata": {
  "kernelspec": {
   "display_name": "Python 3",
   "language": "python",
   "name": "python3"
  },
  "language_info": {
   "codemirror_mode": {
    "name": "ipython",
    "version": 3
   },
   "file_extension": ".py",
   "mimetype": "text/x-python",
   "name": "python",
   "nbconvert_exporter": "python",
   "pygments_lexer": "ipython3",
   "version": "3.6.9"
  }
 },
 "nbformat": 4,
 "nbformat_minor": 4
}
