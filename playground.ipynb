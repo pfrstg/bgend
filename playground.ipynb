{
 "cells": [
  {
   "cell_type": "code",
   "execution_count": 19,
   "metadata": {},
   "outputs": [
    {
     "name": "stdout",
     "output_type": "stream",
     "text": "The autoreload extension is already loaded. To reload it, use:\n  %reload_ext autoreload\n"
    }
   ],
   "source": "%load_ext autoreload\n%autoreload 2"
  },
  {
   "cell_type": "code",
   "execution_count": 35,
   "metadata": {},
   "outputs": [],
   "source": "import array"
  },
  {
   "cell_type": "code",
   "execution_count": 20,
   "metadata": {},
   "outputs": [],
   "source": "import board"
  },
  {
   "cell_type": "code",
   "execution_count": 21,
   "metadata": {},
   "outputs": [
    {
     "data": {
      "text/plain": "Move(spot=6, count=4)"
     },
     "execution_count": 21,
     "metadata": {},
     "output_type": "execute_result"
    }
   ],
   "source": "board.Move(6, 4)"
  },
  {
   "cell_type": "code",
   "execution_count": 22,
   "metadata": {},
   "outputs": [
    {
     "data": {
      "text/plain": "range(1, 6)"
     },
     "execution_count": 22,
     "metadata": {},
     "output_type": "execute_result"
    }
   ],
   "source": "range(1, 6)"
  },
  {
   "cell_type": "code",
   "execution_count": 23,
   "metadata": {},
   "outputs": [],
   "source": "import itertools"
  },
  {
   "cell_type": "code",
   "execution_count": 24,
   "metadata": {},
   "outputs": [],
   "source": "out = []\nfor d1, d2 in itertools.combinations_with_replacement(range(1, 7), 2):\n    if (d1 == d2):\n        out.append(board.Roll([d1, d1, d1, d1], 1/36))\n    else:\n        out.append(board.Roll([d1, d2], 1/18))"
  },
  {
   "cell_type": "code",
   "execution_count": 25,
   "metadata": {},
   "outputs": [
    {
     "name": "stdout",
     "output_type": "stream",
     "text": "[Roll(dice=[1, 1, 1, 1], prob=0.027777777777777776), Roll(dice=[1, 2], prob=0.05555555555555555), Roll(dice=[1, 3], prob=0.05555555555555555), Roll(dice=[1, 4], prob=0.05555555555555555), Roll(dice=[1, 5], prob=0.05555555555555555), Roll(dice=[1, 6], prob=0.05555555555555555), Roll(dice=[2, 2, 2, 2], prob=0.027777777777777776), Roll(dice=[2, 3], prob=0.05555555555555555), Roll(dice=[2, 4], prob=0.05555555555555555), Roll(dice=[2, 5], prob=0.05555555555555555), Roll(dice=[2, 6], prob=0.05555555555555555), Roll(dice=[3, 3, 3, 3], prob=0.027777777777777776), Roll(dice=[3, 4], prob=0.05555555555555555), Roll(dice=[3, 5], prob=0.05555555555555555), Roll(dice=[3, 6], prob=0.05555555555555555), Roll(dice=[4, 4, 4, 4], prob=0.027777777777777776), Roll(dice=[4, 5], prob=0.05555555555555555), Roll(dice=[4, 6], prob=0.05555555555555555), Roll(dice=[5, 5, 5, 5], prob=0.027777777777777776), Roll(dice=[5, 6], prob=0.05555555555555555), Roll(dice=[6, 6, 6, 6], prob=0.027777777777777776)]\n"
    }
   ],
   "source": "print (out)"
  },
  {
   "cell_type": "code",
   "execution_count": 26,
   "metadata": {},
   "outputs": [
    {
     "data": {
      "text/plain": "[Roll(dice=[1, 1, 1, 1], prob=0.027777777777777776),\n Roll(dice=[1, 2], prob=0.05555555555555555),\n Roll(dice=[1, 3], prob=0.05555555555555555),\n Roll(dice=[1, 4], prob=0.05555555555555555),\n Roll(dice=[1, 5], prob=0.05555555555555555),\n Roll(dice=[1, 6], prob=0.05555555555555555),\n Roll(dice=[2, 2, 2, 2], prob=0.027777777777777776),\n Roll(dice=[2, 3], prob=0.05555555555555555),\n Roll(dice=[2, 4], prob=0.05555555555555555),\n Roll(dice=[2, 5], prob=0.05555555555555555),\n Roll(dice=[2, 6], prob=0.05555555555555555),\n Roll(dice=[3, 3, 3, 3], prob=0.027777777777777776),\n Roll(dice=[3, 4], prob=0.05555555555555555),\n Roll(dice=[3, 5], prob=0.05555555555555555),\n Roll(dice=[3, 6], prob=0.05555555555555555),\n Roll(dice=[4, 4, 4, 4], prob=0.027777777777777776),\n Roll(dice=[4, 5], prob=0.05555555555555555),\n Roll(dice=[4, 6], prob=0.05555555555555555),\n Roll(dice=[5, 5, 5, 5], prob=0.027777777777777776),\n Roll(dice=[5, 6], prob=0.05555555555555555),\n Roll(dice=[6, 6, 6, 6], prob=0.027777777777777776)]"
     },
     "execution_count": 26,
     "metadata": {},
     "output_type": "execute_result"
    }
   ],
   "source": "board.ROLLS"
  },
  {
   "cell_type": "markdown",
   "metadata": {},
   "source": "## Pretty printing"
  },
  {
   "cell_type": "code",
   "execution_count": 84,
   "metadata": {},
   "outputs": [
    {
     "name": "stdout",
     "output_type": "stream",
     "text": "0 1 o   \n1 2 oo  \n2 3 ooo \n\n0 1 o   +   \n1 2 oo  | + \n2 3 ooo 4 1 \n\n"
    }
   ],
   "source": "board.initialize(6, 2)\n# Board state is 1 off, 2 on 1 spot, 3 on 2 spot\n# 11101101\nb = board.Board.from_index(0xED)\nprint(b.pretty_string())\n\nm1 = board.Move(spot=2, count=4)\nm2 = board.Move(spot=2, count=1)\nprint(b.pretty_string([m1, m2]))"
  },
  {
   "cell_type": "markdown",
   "metadata": {},
   "source": "## playing with chararray/np string arrays"
  },
  {
   "cell_type": "code",
   "execution_count": 48,
   "metadata": {},
   "outputs": [],
   "source": "import numpy as np"
  },
  {
   "cell_type": "code",
   "execution_count": 64,
   "metadata": {},
   "outputs": [],
   "source": "c = np.full([3, 3], ' ')\nc[0, 1] = 'x'\nc[1, 0] = 'y'\nc[1, 2] = 'y'\nc[2, 2] = 'z'"
  },
  {
   "cell_type": "code",
   "execution_count": 65,
   "metadata": {},
   "outputs": [
    {
     "name": "stdout",
     "output_type": "stream",
     "text": "[[' ' 'x' ' ']\n ['y' ' ' 'y']\n [' ' ' ' 'z']]\n"
    }
   ],
   "source": "print(c)"
  },
  {
   "cell_type": "code",
   "execution_count": 67,
   "metadata": {},
   "outputs": [
    {
     "data": {
      "text/plain": "array([[' ', 'x', ' '],\n       ['y', ' ', 'y'],\n       [' ', ' ', 'z']],\n      dtype='<U1')"
     },
     "execution_count": 67,
     "metadata": {},
     "output_type": "execute_result"
    }
   ],
   "source": "np.char.join('AAA', c)"
  },
  {
   "cell_type": "code",
   "execution_count": 71,
   "metadata": {},
   "outputs": [
    {
     "data": {
      "text/plain": "array([' ', 'x', ' '],\n      dtype='<U1')"
     },
     "execution_count": 71,
     "metadata": {},
     "output_type": "execute_result"
    }
   ],
   "source": "c[0]"
  },
  {
   "cell_type": "code",
   "execution_count": 70,
   "metadata": {},
   "outputs": [
    {
     "data": {
      "text/plain": "array([' ', 'x', ' '],\n      dtype='<U1')"
     },
     "execution_count": 70,
     "metadata": {},
     "output_type": "execute_result"
    }
   ],
   "source": "np.char.join('AAA', c[0])"
  },
  {
   "cell_type": "code",
   "execution_count": 73,
   "metadata": {},
   "outputs": [
    {
     "name": "stdout",
     "output_type": "stream",
     "text": "[[' ' 'x' ' ']\n ['y' ' ' 'y']\n [' ' ' ' 'z']]\n"
    }
   ],
   "source": "print(np.array2string(c))"
  },
  {
   "cell_type": "code",
   "execution_count": 74,
   "metadata": {},
   "outputs": [
    {
     "data": {
      "text/plain": "[10, 9, 8, 7, 6, 5, 4, 3, 2, 1]"
     },
     "execution_count": 74,
     "metadata": {},
     "output_type": "execute_result"
    }
   ],
   "source": "list(range(10, 0, -1))"
  },
  {
   "cell_type": "code",
   "execution_count": null,
   "metadata": {},
   "outputs": [],
   "source": ""
  }
 ],
 "metadata": {
  "kernelspec": {
   "display_name": "Python 3",
   "language": "python",
   "name": "python3"
  },
  "language_info": {
   "codemirror_mode": {
    "name": "ipython",
    "version": 3
   },
   "file_extension": ".py",
   "mimetype": "text/x-python",
   "name": "python",
   "nbconvert_exporter": "python",
   "pygments_lexer": "ipython3",
   "version": "3.6.9"
  }
 },
 "nbformat": 4,
 "nbformat_minor": 4
}
