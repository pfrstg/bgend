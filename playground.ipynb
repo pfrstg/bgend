{
 "cells": [
  {
   "cell_type": "code",
   "execution_count": 9,
   "metadata": {},
   "outputs": [],
   "source": "%load_ext autoreload\n%autoreload 2"
  },
  {
   "cell_type": "code",
   "execution_count": 10,
   "metadata": {},
   "outputs": [],
   "source": "import board\nimport strategy"
  },
  {
   "cell_type": "code",
   "execution_count": 11,
   "metadata": {},
   "outputs": [
    {
     "data": {
      "text/plain": "Move(spot=6, count=4)"
     },
     "execution_count": 11,
     "metadata": {},
     "output_type": "execute_result"
    }
   ],
   "source": "board.Move(6, 4)"
  },
  {
   "cell_type": "code",
   "execution_count": 12,
   "metadata": {},
   "outputs": [
    {
     "data": {
      "text/plain": "[Roll(dice=[1, 1, 1, 1], prob=0.027777777777777776),\n Roll(dice=[1, 2], prob=0.05555555555555555),\n Roll(dice=[1, 3], prob=0.05555555555555555),\n Roll(dice=[1, 4], prob=0.05555555555555555),\n Roll(dice=[1, 5], prob=0.05555555555555555),\n Roll(dice=[1, 6], prob=0.05555555555555555),\n Roll(dice=[2, 2, 2, 2], prob=0.027777777777777776),\n Roll(dice=[2, 3], prob=0.05555555555555555),\n Roll(dice=[2, 4], prob=0.05555555555555555),\n Roll(dice=[2, 5], prob=0.05555555555555555),\n Roll(dice=[2, 6], prob=0.05555555555555555),\n Roll(dice=[3, 3, 3, 3], prob=0.027777777777777776),\n Roll(dice=[3, 4], prob=0.05555555555555555),\n Roll(dice=[3, 5], prob=0.05555555555555555),\n Roll(dice=[3, 6], prob=0.05555555555555555),\n Roll(dice=[4, 4, 4, 4], prob=0.027777777777777776),\n Roll(dice=[4, 5], prob=0.05555555555555555),\n Roll(dice=[4, 6], prob=0.05555555555555555),\n Roll(dice=[5, 5, 5, 5], prob=0.027777777777777776),\n Roll(dice=[5, 6], prob=0.05555555555555555),\n Roll(dice=[6, 6, 6, 6], prob=0.027777777777777776)]"
     },
     "execution_count": 12,
     "metadata": {},
     "output_type": "execute_result"
    }
   ],
   "source": "board.ROLLS"
  },
  {
   "cell_type": "markdown",
   "metadata": {},
   "source": "## Pretty printing"
  },
  {
   "cell_type": "code",
   "execution_count": 166,
   "metadata": {},
   "outputs": [
    {
     "name": "stdout",
     "output_type": "stream",
     "text": "0 1 o   \n1 2 oo  \n2 3 ooo \n\n0 1 o   +   \n1 2 oo  | x \n2 3 ooo 4 1 \n\n"
    }
   ],
   "source": "config = board.GameConfiguration(6, 2)\n# Board state is 1 off, 2 on 1 spot, 3 on 2 spot\n# 11101101\nb = board.Board.from_index(config, 0xED)\nprint(b.pretty_string())\n\nm1 = board.Move(spot=2, count=4)\nm2 = board.Move(spot=2, count=1)\nprint(b.pretty_string([m1, m2]))"
  },
  {
   "cell_type": "code",
   "execution_count": 167,
   "metadata": {
    "scrolled": true
   },
   "outputs": [
    {
     "name": "stdout",
     "output_type": "stream",
     "text": "0 2 oo \n1 1 o  \n2 1 o  \n3 1 o  \n4 1 o  \n\n0 2 oo   x +   \n1 1 o  x | |   \n2 1 o  | | |   \n3 1 o  2 3 6 x \n4 1 o        1 \n\n"
    }
   ],
   "source": "config = board.GameConfiguration(6, 4)\nb = board.Board(config, [2, 1, 1, 1, 1])\nprint(b.pretty_string())\n\nm1 = board.Move(spot=3, count=2)\nm2 = board.Move(spot=3, count=3)\nm3 = board.Move(spot=3, count=6)\nm4 = board.Move(spot=4, count=1)\nprint(b.pretty_string([m1, m2, m3, m4]))"
  },
  {
   "cell_type": "markdown",
   "metadata": {},
   "source": "## Trying apply_move"
  },
  {
   "cell_type": "code",
   "execution_count": 168,
   "metadata": {},
   "outputs": [
    {
     "name": "stdout",
     "output_type": "stream",
     "text": "0 1 o   \n1 2 oo  \n2 3 ooo \n\nMove(spot=2, count=6)\n0 2 oo \n1 2 oo \n2 2 oo \n\nMove(spot=2, count=1)\n0 1 o   \n1 3 ooo \n2 2 oo  \n\nMove(spot=1, count=1)\n0 2 oo  \n1 1 o   \n2 3 ooo \n\n"
    }
   ],
   "source": "config = board.GameConfiguration(6, 2)\nb = board.Board(config, [1, 2, 3])\nprint(b.pretty_string())\n\nfor m in [board.Move(2, 6), board.Move(2, 1), board.Move(1, 1)]:\n    print(m)\n    print(b.apply_move(m).pretty_string())"
  },
  {
   "cell_type": "code",
   "execution_count": 169,
   "metadata": {},
   "outputs": [
    {
     "ename": "ValueError",
     "evalue": "Invalid spot on Move(spot=0, count=6) on Board([1, 2, 3])",
     "output_type": "error",
     "traceback": [
      "\u001b[0;31m---------------------------------------------------------------------------\u001b[0m",
      "\u001b[0;31mValueError\u001b[0m                                Traceback (most recent call last)",
      "\u001b[0;32m<ipython-input-169-cdba100e5764>\u001b[0m in \u001b[0;36m<module>\u001b[0;34m()\u001b[0m\n\u001b[1;32m      1\u001b[0m \u001b[0mconfig\u001b[0m \u001b[0;34m=\u001b[0m \u001b[0mboard\u001b[0m\u001b[0;34m.\u001b[0m\u001b[0mGameConfiguration\u001b[0m\u001b[0;34m(\u001b[0m\u001b[0;36m6\u001b[0m\u001b[0;34m,\u001b[0m \u001b[0;36m2\u001b[0m\u001b[0;34m)\u001b[0m\u001b[0;34m\u001b[0m\u001b[0;34m\u001b[0m\u001b[0m\n\u001b[1;32m      2\u001b[0m \u001b[0mb\u001b[0m \u001b[0;34m=\u001b[0m \u001b[0mboard\u001b[0m\u001b[0;34m.\u001b[0m\u001b[0mBoard\u001b[0m\u001b[0;34m(\u001b[0m\u001b[0mconfig\u001b[0m\u001b[0;34m,\u001b[0m \u001b[0;34m[\u001b[0m\u001b[0;36m1\u001b[0m\u001b[0;34m,\u001b[0m \u001b[0;36m2\u001b[0m\u001b[0;34m,\u001b[0m \u001b[0;36m3\u001b[0m\u001b[0;34m]\u001b[0m\u001b[0;34m)\u001b[0m\u001b[0;34m\u001b[0m\u001b[0;34m\u001b[0m\u001b[0m\n\u001b[0;32m----> 3\u001b[0;31m \u001b[0mb\u001b[0m\u001b[0;34m.\u001b[0m\u001b[0mapply_move\u001b[0m\u001b[0;34m(\u001b[0m\u001b[0mboard\u001b[0m\u001b[0;34m.\u001b[0m\u001b[0mMove\u001b[0m\u001b[0;34m(\u001b[0m\u001b[0;36m0\u001b[0m\u001b[0;34m,\u001b[0m \u001b[0;36m6\u001b[0m\u001b[0;34m)\u001b[0m\u001b[0;34m)\u001b[0m\u001b[0;34m\u001b[0m\u001b[0;34m\u001b[0m\u001b[0m\n\u001b[0m",
      "\u001b[0;32m/home/pfr/bgend/board.py\u001b[0m in \u001b[0;36mapply_move\u001b[0;34m(self, move)\u001b[0m\n\u001b[1;32m    159\u001b[0m         \u001b[0;32mif\u001b[0m \u001b[0mmove\u001b[0m\u001b[0;34m.\u001b[0m\u001b[0mspot\u001b[0m \u001b[0;34m<\u001b[0m \u001b[0;36m1\u001b[0m \u001b[0;32mor\u001b[0m \u001b[0mmove\u001b[0m\u001b[0;34m.\u001b[0m\u001b[0mspot\u001b[0m \u001b[0;34m>\u001b[0m \u001b[0mself\u001b[0m\u001b[0;34m.\u001b[0m\u001b[0mconfig\u001b[0m\u001b[0;34m.\u001b[0m\u001b[0mnum_spots\u001b[0m\u001b[0;34m:\u001b[0m\u001b[0;34m\u001b[0m\u001b[0;34m\u001b[0m\u001b[0m\n\u001b[1;32m    160\u001b[0m             raise ValueError(\"Invalid spot on %s on %s\" % (\n\u001b[0;32m--> 161\u001b[0;31m                 move, self))\n\u001b[0m\u001b[1;32m    162\u001b[0m         \u001b[0mnew_board\u001b[0m \u001b[0;34m=\u001b[0m \u001b[0mcopy\u001b[0m\u001b[0;34m.\u001b[0m\u001b[0mdeepcopy\u001b[0m\u001b[0;34m(\u001b[0m\u001b[0mself\u001b[0m\u001b[0;34m)\u001b[0m\u001b[0;34m\u001b[0m\u001b[0;34m\u001b[0m\u001b[0m\n\u001b[1;32m    163\u001b[0m         \u001b[0mnew_board\u001b[0m\u001b[0;34m.\u001b[0m\u001b[0mspot_counts\u001b[0m\u001b[0;34m[\u001b[0m\u001b[0mmove\u001b[0m\u001b[0;34m.\u001b[0m\u001b[0mspot\u001b[0m\u001b[0;34m]\u001b[0m \u001b[0;34m-=\u001b[0m \u001b[0;36m1\u001b[0m\u001b[0;34m\u001b[0m\u001b[0;34m\u001b[0m\u001b[0m\n",
      "\u001b[0;31mValueError\u001b[0m: Invalid spot on Move(spot=0, count=6) on Board([1, 2, 3])"
     ]
    }
   ],
   "source": "config = board.GameConfiguration(6, 2)\nb = board.Board(config, [1, 2, 3])\nb.apply_move(board.Move(0, 6))"
  },
  {
   "cell_type": "code",
   "execution_count": 170,
   "metadata": {},
   "outputs": [
    {
     "ename": "ValueError",
     "evalue": "No marker for Move(spot=1, count=1) on Board([3, 0, 3])",
     "output_type": "error",
     "traceback": [
      "\u001b[0;31m---------------------------------------------------------------------------\u001b[0m",
      "\u001b[0;31mValueError\u001b[0m                                Traceback (most recent call last)",
      "\u001b[0;32m<ipython-input-170-f0afd764f8d9>\u001b[0m in \u001b[0;36m<module>\u001b[0;34m()\u001b[0m\n\u001b[1;32m      1\u001b[0m \u001b[0mconfig\u001b[0m \u001b[0;34m=\u001b[0m \u001b[0mboard\u001b[0m\u001b[0;34m.\u001b[0m\u001b[0mGameConfiguration\u001b[0m\u001b[0;34m(\u001b[0m\u001b[0;36m6\u001b[0m\u001b[0;34m,\u001b[0m \u001b[0;36m2\u001b[0m\u001b[0;34m)\u001b[0m\u001b[0;34m\u001b[0m\u001b[0;34m\u001b[0m\u001b[0m\n\u001b[1;32m      2\u001b[0m \u001b[0mb\u001b[0m \u001b[0;34m=\u001b[0m \u001b[0mboard\u001b[0m\u001b[0;34m.\u001b[0m\u001b[0mBoard\u001b[0m\u001b[0;34m(\u001b[0m\u001b[0mconfig\u001b[0m\u001b[0;34m,\u001b[0m \u001b[0;34m[\u001b[0m\u001b[0;36m3\u001b[0m\u001b[0;34m,\u001b[0m \u001b[0;36m0\u001b[0m\u001b[0;34m,\u001b[0m \u001b[0;36m3\u001b[0m\u001b[0;34m]\u001b[0m\u001b[0;34m)\u001b[0m\u001b[0;34m\u001b[0m\u001b[0;34m\u001b[0m\u001b[0m\n\u001b[0;32m----> 3\u001b[0;31m \u001b[0mb\u001b[0m\u001b[0;34m.\u001b[0m\u001b[0mapply_move\u001b[0m\u001b[0;34m(\u001b[0m\u001b[0mboard\u001b[0m\u001b[0;34m.\u001b[0m\u001b[0mMove\u001b[0m\u001b[0;34m(\u001b[0m\u001b[0;36m1\u001b[0m\u001b[0;34m,\u001b[0m \u001b[0;36m1\u001b[0m\u001b[0;34m)\u001b[0m\u001b[0;34m)\u001b[0m\u001b[0;34m\u001b[0m\u001b[0;34m\u001b[0m\u001b[0m\n\u001b[0m",
      "\u001b[0;32m/home/pfr/bgend/board.py\u001b[0m in \u001b[0;36mapply_move\u001b[0;34m(self, move)\u001b[0m\n\u001b[1;32m    156\u001b[0m         \u001b[0;32mif\u001b[0m \u001b[0mself\u001b[0m\u001b[0;34m.\u001b[0m\u001b[0mspot_counts\u001b[0m\u001b[0;34m[\u001b[0m\u001b[0mmove\u001b[0m\u001b[0;34m.\u001b[0m\u001b[0mspot\u001b[0m\u001b[0;34m]\u001b[0m \u001b[0;34m<\u001b[0m \u001b[0;36m1\u001b[0m\u001b[0;34m:\u001b[0m\u001b[0;34m\u001b[0m\u001b[0;34m\u001b[0m\u001b[0m\n\u001b[1;32m    157\u001b[0m             raise ValueError(\"No marker for %s on %s\" % (\n\u001b[0;32m--> 158\u001b[0;31m                 move, self))\n\u001b[0m\u001b[1;32m    159\u001b[0m         \u001b[0;32mif\u001b[0m \u001b[0mmove\u001b[0m\u001b[0;34m.\u001b[0m\u001b[0mspot\u001b[0m \u001b[0;34m<\u001b[0m \u001b[0;36m1\u001b[0m \u001b[0;32mor\u001b[0m \u001b[0mmove\u001b[0m\u001b[0;34m.\u001b[0m\u001b[0mspot\u001b[0m \u001b[0;34m>\u001b[0m \u001b[0mself\u001b[0m\u001b[0;34m.\u001b[0m\u001b[0mconfig\u001b[0m\u001b[0;34m.\u001b[0m\u001b[0mnum_spots\u001b[0m\u001b[0;34m:\u001b[0m\u001b[0;34m\u001b[0m\u001b[0;34m\u001b[0m\u001b[0m\n\u001b[1;32m    160\u001b[0m             raise ValueError(\"Invalid spot on %s on %s\" % (\n",
      "\u001b[0;31mValueError\u001b[0m: No marker for Move(spot=1, count=1) on Board([3, 0, 3])"
     ]
    }
   ],
   "source": "config = board.GameConfiguration(6, 2)\nb = board.Board(config, [3, 0, 3])\nb.apply_move(board.Move(1, 1))"
  },
  {
   "cell_type": "code",
   "execution_count": 171,
   "metadata": {},
   "outputs": [
    {
     "ename": "ValueError",
     "evalue": "Overflow count Move(spot=1, count=6) invalid when spot 2 still has markers on Board([1, 2, 3])",
     "output_type": "error",
     "traceback": [
      "\u001b[0;31m---------------------------------------------------------------------------\u001b[0m",
      "\u001b[0;31mValueError\u001b[0m                                Traceback (most recent call last)",
      "\u001b[0;32m<ipython-input-171-1a3f86003f90>\u001b[0m in \u001b[0;36m<module>\u001b[0;34m()\u001b[0m\n\u001b[1;32m      1\u001b[0m \u001b[0mconfig\u001b[0m \u001b[0;34m=\u001b[0m \u001b[0mboard\u001b[0m\u001b[0;34m.\u001b[0m\u001b[0mGameConfiguration\u001b[0m\u001b[0;34m(\u001b[0m\u001b[0;36m6\u001b[0m\u001b[0;34m,\u001b[0m \u001b[0;36m2\u001b[0m\u001b[0;34m)\u001b[0m\u001b[0;34m\u001b[0m\u001b[0;34m\u001b[0m\u001b[0m\n\u001b[1;32m      2\u001b[0m \u001b[0mb\u001b[0m \u001b[0;34m=\u001b[0m \u001b[0mboard\u001b[0m\u001b[0;34m.\u001b[0m\u001b[0mBoard\u001b[0m\u001b[0;34m(\u001b[0m\u001b[0mconfig\u001b[0m\u001b[0;34m,\u001b[0m \u001b[0;34m[\u001b[0m\u001b[0;36m1\u001b[0m\u001b[0;34m,\u001b[0m \u001b[0;36m2\u001b[0m\u001b[0;34m,\u001b[0m \u001b[0;36m3\u001b[0m\u001b[0;34m]\u001b[0m\u001b[0;34m)\u001b[0m\u001b[0;34m\u001b[0m\u001b[0;34m\u001b[0m\u001b[0m\n\u001b[0;32m----> 3\u001b[0;31m \u001b[0mb\u001b[0m\u001b[0;34m.\u001b[0m\u001b[0mapply_move\u001b[0m\u001b[0;34m(\u001b[0m\u001b[0mboard\u001b[0m\u001b[0;34m.\u001b[0m\u001b[0mMove\u001b[0m\u001b[0;34m(\u001b[0m\u001b[0;36m1\u001b[0m\u001b[0;34m,\u001b[0m \u001b[0;36m6\u001b[0m\u001b[0;34m)\u001b[0m\u001b[0;34m)\u001b[0m\u001b[0;34m\u001b[0m\u001b[0;34m\u001b[0m\u001b[0m\n\u001b[0m",
      "\u001b[0;32m/home/pfr/bgend/board.py\u001b[0m in \u001b[0;36mapply_move\u001b[0;34m(self, move)\u001b[0m\n\u001b[1;32m    168\u001b[0m                         (\"Overflow count %s invalid \" +\n\u001b[1;32m    169\u001b[0m                         \u001b[0;34m\"when spot %d still has markers on %s\"\u001b[0m\u001b[0;34m)\u001b[0m \u001b[0;34m%\u001b[0m \u001b[0;34m(\u001b[0m\u001b[0;34m\u001b[0m\u001b[0;34m\u001b[0m\u001b[0m\n\u001b[0;32m--> 170\u001b[0;31m                             move, i, self))\n\u001b[0m\u001b[1;32m    171\u001b[0m             \u001b[0mnew_board\u001b[0m\u001b[0;34m.\u001b[0m\u001b[0mspot_counts\u001b[0m\u001b[0;34m[\u001b[0m\u001b[0;36m0\u001b[0m\u001b[0;34m]\u001b[0m \u001b[0;34m+=\u001b[0m \u001b[0;36m1\u001b[0m\u001b[0;34m\u001b[0m\u001b[0;34m\u001b[0m\u001b[0m\n\u001b[1;32m    172\u001b[0m         \u001b[0;32melse\u001b[0m\u001b[0;34m:\u001b[0m\u001b[0;34m\u001b[0m\u001b[0;34m\u001b[0m\u001b[0m\n",
      "\u001b[0;31mValueError\u001b[0m: Overflow count Move(spot=1, count=6) invalid when spot 2 still has markers on Board([1, 2, 3])"
     ]
    }
   ],
   "source": "config = board.GameConfiguration(6, 2)\nb = board.Board(config, [1, 2, 3])\nb.apply_move(board.Move(1, 6))"
  },
  {
   "cell_type": "code",
   "execution_count": 172,
   "metadata": {},
   "outputs": [
    {
     "name": "stdout",
     "output_type": "stream",
     "text": "True\nTrue\n"
    }
   ],
   "source": "config = board.GameConfiguration(6, 2)\nb1 = board.Board(config, [1, 2, 3]) \nb2 = board.Board(config, [1, 2, 3])\n\nprint(b1 == b2)\nprint(b1.spot_counts == b2.spot_counts)"
  },
  {
   "cell_type": "markdown",
   "metadata": {},
   "source": "## generate_moves"
  },
  {
   "cell_type": "code",
   "execution_count": 173,
   "metadata": {},
   "outputs": [
    {
     "name": "stdout",
     "output_type": "stream",
     "text": "0 1 o   + + \n1 2 oo  | | \n2 3 ooo 5 4 \n\n0 1 o   + + \n1 2 oo  | | \n2 3 ooo 4 5 \n\n"
    }
   ],
   "source": "config = board.GameConfiguration(6, 2)\nb = board.Board(config, [1, 2, 3]) \nfor m in b.generate_moves(board.Roll(dice=[5, 4], prob=0)):\n    print(b.pretty_string(m))"
  },
  {
   "cell_type": "code",
   "execution_count": 174,
   "metadata": {},
   "outputs": [
    {
     "name": "stdout",
     "output_type": "stream",
     "text": "0 1 o     x \n1 2 oo  x | \n2 3 ooo 1 2 \n\n0 1 o   x x \n1 2 oo  1 | \n2 3 ooo   2 \n\n0 1 o   x   \n1 2 oo  | x \n2 3 ooo 2 1 \n\n0 1 o   x x \n1 2 oo  | 1 \n2 3 ooo 2   \n\n"
    }
   ],
   "source": "config = board.GameConfiguration(6, 2)\nb = board.Board(config, [1, 2, 3]) \nfor m in b.generate_moves(board.Roll(dice=[1, 2], prob=0)):\n    print(b.pretty_string(m))"
  },
  {
   "cell_type": "code",
   "execution_count": 175,
   "metadata": {},
   "outputs": [
    {
     "name": "stdout",
     "output_type": "stream",
     "text": "0 0   x x \n1 0   | | \n2 1 o | 2 \n3 0   |   \n4 1 o 4   \n\n0 0     + \n1 0     | \n2 1 o x 4 \n3 0   |   \n4 1 o 2   \n\n0 0   x x \n1 0   | | \n2 1 o 2 | \n3 0     | \n4 1 o   4 \n\n"
    }
   ],
   "source": "config = board.GameConfiguration(2, 4)\nb = board.Board(config, [0, 0, 1, 0, 1]) \nfor m in b.generate_moves(board.Roll(dice=[4, 2], prob=0)):\n    print(b.pretty_string(m))"
  },
  {
   "cell_type": "code",
   "execution_count": 176,
   "metadata": {},
   "outputs": [
    {
     "name": "stdout",
     "output_type": "stream",
     "text": "0 0   x + \n1 0   | | \n2 1 o | 4 \n3 0   |   \n4 1 o 4   \n\n"
    }
   ],
   "source": "config = board.GameConfiguration(2, 4)\nb = board.Board(config, [0, 0, 1, 0, 1]) \nfor m in b.generate_moves(board.Roll(dice=[4, 4], prob=0)):\n    print(b.pretty_string(m))"
  },
  {
   "cell_type": "code",
   "execution_count": 177,
   "metadata": {},
   "outputs": [
    {
     "name": "stdout",
     "output_type": "stream",
     "text": "0 0    + + \n1 1 o  | | \n2 0    | | \n3 2 oo 4 4 \n4 0        \n\n"
    }
   ],
   "source": "config = board.GameConfiguration(3, 4)\nb = board.Board(config, [0, 1, 0, 2, 0]) \nfor m in b.generate_moves(board.Roll(dice=[4, 4], prob=0)):\n    print(b.pretty_string(m))"
  },
  {
   "cell_type": "code",
   "execution_count": 178,
   "metadata": {},
   "outputs": [
    {
     "name": "stdout",
     "output_type": "stream",
     "text": "0 0       \n1 0     x \n2 1 o   | \n3 0   x 2 \n4 1 o 1   \n\n0 0     x \n1 0     | \n2 1 o   2 \n3 0   x   \n4 1 o 1   \n\n0 0       \n1 0   x   \n2 1 o 1 x \n3 0     | \n4 1 o   2 \n\n0 0       \n1 0     x \n2 1 o x 1 \n3 0   |   \n4 1 o 2   \n\n0 0   x   \n1 0   |   \n2 1 o 2   \n3 0     x \n4 1 o   1 \n\n"
    }
   ],
   "source": "config = board.GameConfiguration(2, 4)\nb = board.Board(config, [0, 0, 1, 0, 1]) \nfor m in b.generate_moves(board.Roll(dice=[1, 2], prob=0)):\n    print(b.pretty_string(m))"
  },
  {
   "cell_type": "code",
   "execution_count": 179,
   "metadata": {},
   "outputs": [
    {
     "name": "stdout",
     "output_type": "stream",
     "text": "0 0   x + \n1 0   | | \n2 1 o | 3 \n3 0   |   \n4 1 o 4   \n\n0 0     + \n1 0   x | \n2 1 o | 4 \n3 0   |   \n4 1 o 3   \n\n"
    }
   ],
   "source": "# This is the case where you have to try applying the dice in the opposite order!\nconfig = board.GameConfiguration(2, 4)\nb = board.Board(config, [0, 0, 1, 0, 1]) \nfor m in b.generate_moves(board.Roll(dice=[4, 3], prob=0)):\n    print(b.pretty_string(m))"
  },
  {
   "cell_type": "code",
   "execution_count": null,
   "metadata": {},
   "outputs": [],
   "source": ""
  },
  {
   "cell_type": "markdown",
   "metadata": {},
   "source": "## playing with chararray/np string arrays"
  },
  {
   "cell_type": "code",
   "execution_count": 180,
   "metadata": {},
   "outputs": [],
   "source": "import numpy as np"
  },
  {
   "cell_type": "code",
   "execution_count": 181,
   "metadata": {},
   "outputs": [],
   "source": "c = np.full([3, 3], ' ')\nc[0, 1] = 'x'\nc[1, 0] = 'y'\nc[1, 2] = 'y'\nc[2, 2] = 'z'"
  },
  {
   "cell_type": "code",
   "execution_count": 182,
   "metadata": {},
   "outputs": [
    {
     "name": "stdout",
     "output_type": "stream",
     "text": "[[' ' 'x' ' ']\n ['y' ' ' 'y']\n [' ' ' ' 'z']]\n"
    }
   ],
   "source": "print(c)"
  },
  {
   "cell_type": "code",
   "execution_count": 183,
   "metadata": {},
   "outputs": [
    {
     "data": {
      "text/plain": "array([[' ', 'x', ' '],\n       ['y', ' ', 'y'],\n       [' ', ' ', 'z']],\n      dtype='<U1')"
     },
     "execution_count": 183,
     "metadata": {},
     "output_type": "execute_result"
    }
   ],
   "source": "np.char.join('AAA', c)"
  },
  {
   "cell_type": "code",
   "execution_count": 184,
   "metadata": {},
   "outputs": [
    {
     "data": {
      "text/plain": "array([' ', 'x', ' '],\n      dtype='<U1')"
     },
     "execution_count": 184,
     "metadata": {},
     "output_type": "execute_result"
    }
   ],
   "source": "c[0]"
  },
  {
   "cell_type": "code",
   "execution_count": 185,
   "metadata": {},
   "outputs": [
    {
     "data": {
      "text/plain": "array([' ', 'x', ' '],\n      dtype='<U1')"
     },
     "execution_count": 185,
     "metadata": {},
     "output_type": "execute_result"
    }
   ],
   "source": "np.char.join('AAA', c[0])"
  },
  {
   "cell_type": "code",
   "execution_count": 186,
   "metadata": {},
   "outputs": [
    {
     "name": "stdout",
     "output_type": "stream",
     "text": "[[' ' 'x' ' ']\n ['y' ' ' 'y']\n [' ' ' ' 'z']]\n"
    }
   ],
   "source": "print(np.array2string(c))"
  },
  {
   "cell_type": "code",
   "execution_count": 187,
   "metadata": {},
   "outputs": [
    {
     "data": {
      "text/plain": "[10, 9, 8, 7, 6, 5, 4, 3, 2, 1]"
     },
     "execution_count": 187,
     "metadata": {},
     "output_type": "execute_result"
    }
   ],
   "source": "list(range(10, 0, -1))"
  },
  {
   "cell_type": "markdown",
   "metadata": {},
   "source": "## Playing with MoveCountDistribution"
  },
  {
   "cell_type": "code",
   "execution_count": 188,
   "metadata": {},
   "outputs": [
    {
     "name": "stdout",
     "output_type": "stream",
     "text": "[ 0.6  0.4]\n"
    }
   ],
   "source": "d1 = strategy.MoveCountDistribution([0.6, 0.4])\nd2 = strategy.MoveCountDistribution([0.1, 0.9])\nprint(d1.dist)\n#d1 + d2"
  },
  {
   "cell_type": "markdown",
   "metadata": {},
   "source": "## Trying DistributionStore"
  },
  {
   "cell_type": "code",
   "execution_count": 222,
   "metadata": {},
   "outputs": [
    {
     "name": "stdout",
     "output_type": "stream",
     "text": "Starting compute on 84 boards\nCPU times: user 941 ms, sys: 0 ns, total: 941 ms\nWall time: 940 ms\n"
    }
   ],
   "source": "config = board.GameConfiguration(6, 3)\nstore = strategy.DistributionStore(config)\n%time store.compute()"
  },
  {
   "cell_type": "code",
   "execution_count": 223,
   "metadata": {},
   "outputs": [
    {
     "name": "stdout",
     "output_type": "stream",
     "text": "Board 63\nMCD(0.000000, [1])\n0 6 oooooo \n1 0        \n2 0        \n3 0        \n\nBoard 95\nMCD(1.000000, [ 0.  1.])\n0 5 ooooo \n1 1 o     \n2 0       \n3 0       \n\nBoard 111\nMCD(1.000000, [ 0.  1.])\n0 4 oooo \n1 2 oo   \n2 0      \n3 0      \n\nBoard 119\nMCD(1.833333, [ 0.          0.16666667  0.83333333])\n0 3 ooo \n1 3 ooo \n2 0     \n3 0     \n\nBoard 123\nMCD(1.833333, [ 0.          0.16666667  0.83333333])\n0 2 oo   \n1 4 oooo \n2 0      \n3 0      \n\nBoard 125\nMCD(2.694444, [ 0.          0.          0.30555556  0.69444444])\n0 1 o     \n1 5 ooooo \n2 0       \n3 0       \n\nBoard 126\nMCD(2.694444, [ 0.          0.          0.30555556  0.69444444])\n0 0        \n1 6 oooooo \n2 0        \n3 0        \n\nBoard 159\nMCD(1.000000, [ 0.  1.])\n0 5 ooooo \n1 0       \n2 1 o     \n3 0       \n\nBoard 175\nMCD(1.000000, [ 0.  1.])\n0 4 oooo \n1 1 o    \n2 1 o    \n3 0      \n\nBoard 183\nMCD(1.833333, [ 0.          0.16666667  0.83333333])\n0 3 ooo \n1 2 oo  \n2 1 o   \n3 0     \n\nBoard 187\nMCD(1.861111, [ 0.          0.13888889  0.86111111])\n0 2 oo  \n1 3 ooo \n2 1 o   \n3 0     \n\nBoard 189\nMCD(2.694444, [ 0.          0.          0.30555556  0.69444444])\n0 1 o    \n1 4 oooo \n2 1 o    \n3 0      \n\nBoard 190\nMCD(2.694444, [ 0.          0.          0.30555556  0.69444444])\n0 0       \n1 5 ooooo \n2 1 o     \n3 0       \n\nBoard 207\nMCD(1.277778, [ 0.          0.72222222  0.27777778])\n0 4 oooo \n1 0      \n2 2 oo   \n3 0      \n\nBoard 215\nMCD(1.861111, [ 0.          0.13888889  0.86111111])\n0 3 ooo \n1 1 o   \n2 2 oo  \n3 0     \n\nBoard 219\nMCD(1.861111, [ 0.          0.13888889  0.86111111])\n0 2 oo \n1 2 oo \n2 2 oo \n3 0    \n\nBoard 221\nMCD(2.694444, [ 0.          0.          0.30555556  0.69444444])\n0 1 o   \n1 3 ooo \n2 2 oo  \n3 0     \n\nBoard 222\nMCD(2.709877, [ 0.          0.          0.29012346  0.70987654])\n0 0      \n1 4 oooo \n2 2 oo   \n3 0      \n\nBoard 231\nMCD(1.861111, [ 0.          0.13888889  0.86111111])\n0 3 ooo \n1 0     \n2 3 ooo \n3 0     \n\nBoard 235\nMCD(1.938272, [ 0.          0.13888889  0.78395062  0.07716049])\n0 2 oo  \n1 1 o   \n2 3 ooo \n3 0     \n\nBoard 237\nMCD(2.709877, [ 0.          0.          0.29012346  0.70987654])\n0 1 o   \n1 2 oo  \n2 3 ooo \n3 0     \n\nBoard 238\nMCD(2.741512, [ 0.          0.          0.25848765  0.74151235])\n0 0     \n1 3 ooo \n2 3 ooo \n3 0     \n\nBoard 243\nMCD(2.262346, [ 0.          0.13888889  0.45987654  0.40123457])\n0 2 oo   \n1 0      \n2 4 oooo \n3 0      \n\nBoard 245\nMCD(2.741512, [ 0.          0.          0.25848765  0.74151235])\n0 1 o    \n1 1 o    \n2 4 oooo \n3 0      \n\nBoard 246\nMCD(2.762946, [ 0.          0.          0.25848765  0.72007888  0.02143347])\n0 0      \n1 2 oo   \n2 4 oooo \n3 0      \n\nBoard 249\nMCD(2.762946, [ 0.          0.          0.25848765  0.72007888  0.02143347])\n0 1 o     \n1 0       \n2 5 ooooo \n3 0       \n\nBoard 250\nMCD(2.897977, [ 0.          0.          0.25848765  0.58504801  0.15646433])\n0 0       \n1 1 o     \n2 5 ooooo \n3 0       \n\nBoard 252\nMCD(3.258702, [ 0.          0.          0.18132716  0.37864369  0.44002915])\n0 0        \n1 0        \n2 6 oooooo \n3 0        \n\nBoard 287\nMCD(1.000000, [ 0.  1.])\n0 5 ooooo \n1 0       \n2 0       \n3 1 o     \n\nBoard 303\nMCD(1.055556, [ 0.          0.94444444  0.05555556])\n0 4 oooo \n1 1 o    \n2 0      \n3 1 o    \n\nBoard 311\nMCD(1.861111, [ 0.          0.13888889  0.86111111])\n0 3 ooo \n1 2 oo  \n2 0     \n3 1 o   \n\nBoard 315\nMCD(1.935185, [ 0.          0.11111111  0.84259259  0.0462963 ])\n0 2 oo  \n1 3 ooo \n2 0     \n3 1 o   \n\nBoard 317\nMCD(2.694444, [ 0.          0.          0.30555556  0.69444444])\n0 1 o    \n1 4 oooo \n2 0      \n3 1 o    \n\nBoard 318\nMCD(2.766975, [ 0.          0.          0.27160494  0.68981481  0.03858025])\n0 0       \n1 5 ooooo \n2 0       \n3 1 o     \n\nBoard 335\nMCD(1.305556, [ 0.          0.69444444  0.30555556])\n0 4 oooo \n1 0      \n2 1 o    \n3 1 o    \n\nBoard 343\nMCD(1.861111, [ 0.          0.13888889  0.86111111])\n0 3 ooo \n1 1 o   \n2 1 o   \n3 1 o   \n\nBoard 347\nMCD(1.891975, [ 0.          0.11111111  0.88580247  0.00308642])\n0 2 oo \n1 2 oo \n2 1 o  \n3 1 o  \n\nBoard 349\nMCD(2.697531, [ 0.          0.          0.30246914  0.69753086])\n0 1 o   \n1 3 ooo \n2 1 o   \n3 1 o   \n\nBoard 350\nMCD(2.737912, [ 0.          0.          0.26466049  0.73276749  0.00257202])\n0 0      \n1 4 oooo \n2 1 o    \n3 1 o    \n\nBoard 359\nMCD(1.864198, [ 0.          0.13888889  0.85802469  0.00308642])\n0 3 ooo \n1 0     \n2 2 oo  \n3 1 o   \n\nBoard 363\nMCD(1.969136, [ 0.          0.11111111  0.80864198  0.08024691])\n0 2 oo \n1 1 o  \n2 2 oo \n3 1 o  \n\nBoard 365\nMCD(2.710648, [ 0.          0.          0.28935185  0.71064815])\n0 1 o  \n1 2 oo \n2 2 oo \n3 1 o  \n\nBoard 366\nMCD(2.766375, [  0.00000000e+00   0.00000000e+00   2.33796296e-01   7.66032236e-01\n   1.71467764e-04])\n0 0     \n1 3 ooo \n2 2 oo  \n3 1 o   \n\nBoard 371\nMCD(2.290895, [ 0.          0.11111111  0.48688272  0.40200617])\n0 2 oo  \n1 0     \n2 3 ooo \n3 1 o   \n\nBoard 373\nMCD(2.741684, [  0.00000000e+00   0.00000000e+00   2.58487654e-01   7.41340878e-01\n   1.71467764e-04])\n0 1 o   \n1 1 o   \n2 3 ooo \n3 1 o   \n\nBoard 374\nMCD(2.787894, [ 0.          0.          0.2337963   0.74451303  0.02169067])\n0 0     \n1 2 oo  \n2 3 ooo \n3 1 o   \n\nBoard 377\nMCD(2.764746, [ 0.          0.          0.25694444  0.72136488  0.02169067])\n0 1 o    \n1 0      \n2 4 oooo \n3 1 o    \n\nBoard 378\nMCD(2.901963, [ 0.          0.          0.25462963  0.58877743  0.15659294])\n0 0      \n1 1 o    \n2 4 oooo \n3 1 o    \n\nBoard 380\nMCD(3.260276, [  0.00000000e+00   0.00000000e+00   1.79783951e-01   3.80165466e-01\n   4.40041057e-01   9.52598689e-06])\n0 0       \n1 0       \n2 5 ooooo \n3 1 o     \n\nBoard 399\nMCD(1.527778, [ 0.          0.47222222  0.52777778])\n0 4 oooo \n1 0      \n2 0      \n3 2 oo   \n\nBoard 407\nMCD(1.891975, [ 0.          0.11111111  0.88580247  0.00308642])\n0 3 ooo \n1 1 o   \n2 0     \n3 2 oo  \n\nBoard 411\nMCD(2.135802, [ 0.          0.11111111  0.64197531  0.24691358])\n0 2 oo \n1 2 oo \n2 0    \n3 2 oo \n\nBoard 413\nMCD(2.737912, [ 0.          0.          0.26466049  0.73276749  0.00257202])\n0 1 o   \n1 3 ooo \n2 0     \n3 2 oo  \n\nBoard 414\nMCD(2.994084, [ 0.          0.          0.20910494  0.58770576  0.2031893 ])\n0 0      \n1 4 oooo \n2 0      \n3 2 oo   \n\nBoard 423\nMCD(1.919753, [ 0.          0.11111111  0.85802469  0.0308642 ])\n0 3 ooo \n1 0     \n2 1 o   \n3 2 oo  \n\nBoard 427\nMCD(2.006944, [ 0.          0.11111111  0.77083333  0.11805556])\n0 2 oo \n1 1 o  \n2 1 o  \n3 2 oo \n\nBoard 429\nMCD(2.747857, [  0.00000000e+00   0.00000000e+00   2.52314815e-01   7.47513717e-01\n   1.71467764e-04])\n0 1 o  \n1 2 oo \n2 1 o  \n3 2 oo \n\nBoard 430\nMCD(2.803326, [ 0.          0.          0.22145062  0.75377229  0.02477709])\n0 0     \n1 3 ooo \n2 1 o   \n3 2 oo  \n\nBoard 435\nMCD(2.303412, [  0.00000000e+00   1.11111111e-01   4.74537037e-01   4.14180384e-01\n   1.71467764e-04])\n0 2 oo \n1 0    \n2 2 oo \n3 2 oo \n\nBoard 437\nMCD(2.768690, [ 0.          0.          0.2337963   0.76371742  0.00248628])\n0 1 o  \n1 1 o  \n2 2 oo \n3 2 oo \n\nBoard 438\nMCD(2.805255, [ 0.          0.          0.22067901  0.75338649  0.0259345 ])\n0 0    \n1 2 oo \n2 2 oo \n3 2 oo \n\nBoard 441\nMCD(2.777478, [ 0.          0.          0.24845679  0.72560871  0.0259345 ])\n0 1 o   \n1 0     \n2 3 ooo \n3 2 oo  \n\nBoard 442\nMCD(2.939289, [  0.00000000e+00   0.00000000e+00   2.19907407e-01   6.20906207e-01\n   1.59176859e-01   9.52598689e-06])\n0 0     \n1 1 o   \n2 3 ooo \n3 2 oo  \n\nBoard 444\nMCD(3.274460, [ 0.          0.          0.16743827  0.39191101  0.43940282  0.0012479 ])\n0 0      \n1 0      \n2 4 oooo \n3 2 oo   \n\nBoard 455\nMCD(2.006944, [ 0.          0.11111111  0.77083333  0.11805556])\n0 3 ooo \n1 0     \n2 0     \n3 3 ooo \n\nBoard 459\nMCD(2.303412, [  0.00000000e+00   1.11111111e-01   4.74537037e-01   4.14180384e-01\n   1.71467764e-04])\n0 2 oo  \n1 1 o   \n2 0     \n3 3 ooo \n\nBoard 461\nMCD(2.803326, [ 0.          0.          0.22145062  0.75377229  0.02477709])\n0 1 o   \n1 2 oo  \n2 0     \n3 3 ooo \n\nBoard 462\nMCD(3.109839, [  0.00000000e+00   0.00000000e+00   1.75925926e-01   5.38451646e-01\n   2.85479538e-01   1.42889803e-04])\n0 0     \n1 3 ooo \n2 0     \n3 3 ooo \n\nBoard 467\nMCD(2.398320, [ 0.          0.11111111  0.38194444  0.50445816  0.00248628])\n0 2 oo  \n1 0     \n2 1 o   \n3 3 ooo \n\nBoard 469\nMCD(2.794282, [ 0.          0.          0.22067901  0.76436043  0.01496056])\n0 1 o   \n1 1 o   \n2 1 o   \n3 3 ooo \n\nBoard 470\nMCD(2.920941, [  0.00000000e+00   0.00000000e+00   2.06790123e-01   6.65487826e-01\n   1.27712525e-01   9.52598689e-06])\n0 0     \n1 2 oo  \n2 1 o   \n3 3 ooo \n\nBoard 473\nMCD(2.840523, [  0.00000000e+00   0.00000000e+00   2.19907407e-01   7.19671639e-01\n   6.04114274e-02   9.52598689e-06])\n0 1 o   \n1 0     \n2 2 oo  \n3 3 ooo \n\nBoard 474\nMCD(2.976326, [  0.00000000e+00   0.00000000e+00   2.09876543e-01   6.04102366e-01\n   1.85840097e-01   1.80993751e-04])\n0 0     \n1 1 o   \n2 2 oo  \n3 3 ooo \n\nBoard 476\nMCD(3.305344, [ 0.          0.          0.14814815  0.40472822  0.44075551  0.00636812])\n0 0     \n1 0     \n2 3 ooo \n3 3 ooo \n\nBoard 483\nMCD(2.572059, [ 0.          0.11111111  0.22067901  0.65324931  0.01496056])\n0 2 oo   \n1 0      \n2 0      \n3 4 oooo \n\nBoard 485\nMCD(2.920941, [  0.00000000e+00   0.00000000e+00   2.06790123e-01   6.65487826e-01\n   1.27712525e-01   9.52598689e-06])\n0 1 o    \n1 1 o    \n2 0      \n3 4 oooo \n\nBoard 486\nMCD(3.237909, [ 0.          0.          0.17592593  0.41222994  0.4098532   0.00199093])\n0 0      \n1 2 oo   \n2 0      \n3 4 oooo \n\nBoard 489\nMCD(2.959865, [  0.00000000e+00   0.00000000e+00   2.09876543e-01   6.20563272e-01\n   1.69379191e-01   1.80993751e-04])\n0 1 o    \n1 0      \n2 1 o    \n3 4 oooo \n\nBoard 490\nMCD(3.109280, [ 0.          0.          0.20679012  0.47863083  0.31308823  0.00149082])\n0 0      \n1 1 o    \n2 1 o    \n3 4 oooo \n\nBoard 492\nMCD(3.348537, [  0.00000000e+00   0.00000000e+00   1.48148148e-01   3.65312071e-01\n   4.76394604e-01   1.01446468e-02   5.29221494e-07])\n0 0      \n1 0      \n2 2 oo   \n3 4 oooo \n\nBoard 497\nMCD(3.109280, [ 0.          0.          0.20679012  0.47863083  0.31308823  0.00149082])\n0 1 o     \n1 0       \n2 0       \n3 5 ooooo \n\nBoard 498\nMCD(3.390199, [  0.00000000e+00   0.00000000e+00   1.69753086e-01   2.87765775e-01\n   5.25010479e-01   1.74701307e-02   5.29221494e-07])\n0 0       \n1 1 o     \n2 0       \n3 5 ooooo \n\nBoard 500\nMCD(3.466691, [  0.00000000e+00   0.00000000e+00   1.38888889e-01   2.84293553e-01\n   5.48067534e-01   2.87375871e-02   1.24367051e-05])\n0 0       \n1 0       \n2 1 o     \n3 5 ooooo \n\nBoard 504\nMCD(3.672077, [  0.00000000e+00   0.00000000e+00   8.95061728e-02   2.47920953e-01\n   5.63692534e-01   9.87501508e-02   1.30188488e-04])\n0 0        \n1 0        \n2 0        \n3 6 oooooo \n\n"
    }
   ],
   "source": "store.pretty_string()"
  },
  {
   "cell_type": "code",
   "execution_count": 231,
   "metadata": {},
   "outputs": [
    {
     "name": "stdout",
     "output_type": "stream",
     "text": "Starting compute on 924 boards\n100/924 10.823%, 1.145202s elapsed, 10.581668s estimated total\n200/924 21.645%, 3.204520s elapsed, 14.804880s estimated total\n300/924 32.468%, 5.669176s elapsed, 17.461061s estimated total\n400/924 43.290%, 8.979810s elapsed, 20.743361s estimated total\n500/924 54.113%, 11.336920s elapsed, 20.950628s estimated total\n600/924 64.935%, 14.893643s elapsed, 22.936211s estimated total\n700/924 75.758%, 20.659995s elapsed, 27.271194s estimated total\n800/924 86.580%, 24.559262s elapsed, 28.365947s estimated total\n900/924 97.403%, 29.248869s elapsed, 30.028839s estimated total\nCPU times: user 29.8 s, sys: 82.8 ms, total: 29.9 s\nWall time: 29.9 s\n"
    }
   ],
   "source": "config = board.GameConfiguration(6, 6)\nstore = strategy.DistributionStore(config)\n%time store.compute(progress_interval=100)"
  },
  {
   "cell_type": "code",
   "execution_count": 232,
   "metadata": {},
   "outputs": [
    {
     "name": "stdout",
     "output_type": "stream",
     "text": "Starting compute on 3003 boards\n500/3003 16.7%, 10.134199s elapsed, 60.865999s estimated total\n1000/3003 33.3%, 30.075145s elapsed, 90.315660s estimated total\n1500/3003 50.0%, 48.250866s elapsed, 96.598234s estimated total\n2000/3003 66.6%, 83.281692s elapsed, 125.047460s estimated total\n2500/3003 83.3%, 116.966997s elapsed, 140.500757s estimated total\n3000/3003 99.9%, 144.553707s elapsed, 144.698261s estimated total\nCPU times: user 2min 23s, sys: 667 ms, total: 2min 24s\nWall time: 2min 24s\n"
    }
   ],
   "source": "config = board.GameConfiguration(8, 6)\nstore = strategy.DistributionStore(config)\n%time store.compute(progress_interval=500)"
  },
  {
   "cell_type": "code",
   "execution_count": 233,
   "metadata": {},
   "outputs": [
    {
     "name": "stdout",
     "output_type": "stream",
     "text": "Starting compute on 18564 boards\n500/18564 2.7%, 7.503311s elapsed, 278.582937s estimated total\n1000/18564 5.4%, 22.019496s elapsed, 408.769928s estimated total\n1500/18564 8.1%, 38.894579s elapsed, 481.359309s estimated total\n2000/18564 10.8%, 52.168598s elapsed, 484.228930s estimated total\n2500/18564 13.5%, 74.596325s elapsed, 553.922470s estimated total\n3000/18564 16.2%, 105.784687s elapsed, 654.595643s estimated total\n3500/18564 18.9%, 126.982242s elapsed, 673.513812s estimated total\n4000/18564 21.5%, 162.133704s elapsed, 752.462521s estimated total\n4500/18564 24.2%, 187.760779s elapsed, 774.575799s estimated total\n5000/18564 26.9%, 219.090202s elapsed, 813.438102s estimated total\n5500/18564 29.6%, 246.442612s elapsed, 831.811026s estimated total\n6000/18564 32.3%, 270.793774s elapsed, 837.835936s estimated total\n6500/18564 35.0%, 287.341523s elapsed, 820.647389s estimated total\n7000/18564 37.7%, 316.452488s elapsed, 839.231999s estimated total\n7500/18564 40.4%, 348.897706s elapsed, 863.591603s estimated total\n8000/18564 43.1%, 386.028445s elapsed, 895.779008s estimated total\n8500/18564 45.8%, 444.434113s elapsed, 970.644103s estimated total\n9000/18564 48.5%, 493.699815s elapsed, 1018.338152s estimated total\n9500/18564 51.2%, 548.938791s elapsed, 1072.684180s estimated total\n10000/18564 53.9%, 605.673447s elapsed, 1124.372187s estimated total\n10500/18564 56.6%, 652.342060s elapsed, 1153.340762s estimated total\n11000/18564 59.3%, 677.951305s elapsed, 1144.135275s estimated total\n11500/18564 61.9%, 718.065083s elapsed, 1159.144365s estimated total\n12000/18564 64.6%, 766.500224s elapsed, 1185.775847s estimated total\n12500/18564 67.3%, 826.344354s elapsed, 1227.220527s estimated total\n13000/18564 70.0%, 893.602002s elapsed, 1276.063659s estimated total\n13500/18564 72.7%, 951.642394s elapsed, 1308.614029s estimated total\n14000/18564 75.4%, 980.913578s elapsed, 1300.691405s estimated total\n14500/18564 78.1%, 1022.168263s elapsed, 1308.657354s estimated total\n15000/18564 80.8%, 1084.668594s elapsed, 1342.385852s estimated total\n15500/18564 83.5%, 1144.721148s elapsed, 1371.006670s estimated total\n16000/18564 86.2%, 1176.111584s elapsed, 1364.583466s estimated total\n16500/18564 88.9%, 1224.954748s elapsed, 1378.185451s estimated total\n17000/18564 91.6%, 1269.637053s elapsed, 1386.443662s estimated total\n17500/18564 94.3%, 1313.939670s elapsed, 1393.827202s estimated total\n18000/18564 97.0%, 1349.483783s elapsed, 1391.767608s estimated total\n18500/18564 99.7%, 1379.822224s elapsed, 1384.595663s estimated total\nCPU times: user 23min 1s, sys: 543 ms, total: 23min 2s\nWall time: 23min 2s\n"
    }
   ],
   "source": "config = board.GameConfiguration(12, 6)\nstore = strategy.DistributionStore(config)\n%time store.compute(progress_interval=500)"
  },
  {
   "cell_type": "code",
   "execution_count": 234,
   "metadata": {},
   "outputs": [
    {
     "name": "stdout",
     "output_type": "stream",
     "text": "Starting compute on 54264 boards\n500/54264 0.9%, 7.280561s elapsed, 790.144695s estimated total\n1000/54264 1.8%, 16.251111s elapsed, 881.850302s estimated total\n1500/54264 2.8%, 31.935628s elapsed, 1155.303285s estimated total\n2000/54264 3.7%, 49.631508s elapsed, 1346.602065s estimated total\nStopping at 2000 boards, index 458492\nCPU times: user 49.7 s, sys: 7.78 ms, total: 49.7 s\nWall time: 49.7 s\n"
    }
   ],
   "source": "config = board.GameConfiguration(15, 6)\nstore = strategy.DistributionStore(config)\n%time store.compute(progress_interval=500, limit=2000)"
  },
  {
   "cell_type": "markdown",
   "metadata": {},
   "source": "## Exploring disk formats"
  },
  {
   "cell_type": "code",
   "execution_count": 48,
   "metadata": {},
   "outputs": [
    {
     "name": "stdout",
     "output_type": "stream",
     "text": "Starting compute on 84 boards\nCPU times: user 958 ms, sys: 467 µs, total: 958 ms\nWall time: 956 ms\n"
    }
   ],
   "source": "config = board.GameConfiguration(6, 3)\nstore = strategy.DistributionStore(config)\n%time store.compute()"
  },
  {
   "cell_type": "code",
   "execution_count": 18,
   "metadata": {},
   "outputs": [],
   "source": "import pyarrow\nimport pyarrow.parquet as pq"
  },
  {
   "cell_type": "code",
   "execution_count": 19,
   "metadata": {},
   "outputs": [
    {
     "ename": "TypeError",
     "evalue": "expected bytes, int found",
     "output_type": "error",
     "traceback": [
      "\u001b[0;31m---------------------------------------------------------------------------\u001b[0m",
      "\u001b[0;31mTypeError\u001b[0m                                 Traceback (most recent call last)",
      "\u001b[0;32m<ipython-input-19-158456883beb>\u001b[0m in \u001b[0;36m<module>\u001b[0;34m()\u001b[0m\n\u001b[0;32m----> 1\u001b[0;31m \u001b[0mtable\u001b[0m \u001b[0;34m=\u001b[0m \u001b[0mpyarrow\u001b[0m\u001b[0;34m.\u001b[0m\u001b[0mTable\u001b[0m\u001b[0;34m.\u001b[0m\u001b[0mfrom_pydict\u001b[0m\u001b[0;34m(\u001b[0m\u001b[0mstore\u001b[0m\u001b[0;34m.\u001b[0m\u001b[0mdistribution_map\u001b[0m\u001b[0;34m)\u001b[0m\u001b[0;34m\u001b[0m\u001b[0;34m\u001b[0m\u001b[0m\n\u001b[0m",
      "\u001b[0;32m/usr/local/lib/python3.6/dist-packages/pyarrow/table.pxi\u001b[0m in \u001b[0;36mpyarrow.lib.Table.from_pydict\u001b[0;34m()\u001b[0m\n",
      "\u001b[0;32m/usr/local/lib/python3.6/dist-packages/pyarrow/table.pxi\u001b[0m in \u001b[0;36mpyarrow.lib.Table.from_arrays\u001b[0;34m()\u001b[0m\n",
      "\u001b[0;32m/usr/local/lib/python3.6/dist-packages/pyarrow/table.pxi\u001b[0m in \u001b[0;36mpyarrow.lib._sanitize_arrays\u001b[0;34m()\u001b[0m\n",
      "\u001b[0;32m/usr/local/lib/python3.6/dist-packages/pyarrow/table.pxi\u001b[0m in \u001b[0;36mpyarrow.lib._schema_from_arrays\u001b[0;34m()\u001b[0m\n",
      "\u001b[0;32m/usr/local/lib/python3.6/dist-packages/pyarrow/lib.cpython-36m-x86_64-linux-gnu.so\u001b[0m in \u001b[0;36mstring.from_py.__pyx_convert_string_from_py_std__in_string\u001b[0;34m()\u001b[0m\n",
      "\u001b[0;31mTypeError\u001b[0m: expected bytes, int found"
     ]
    }
   ],
   "source": "table = pyarrow.Table.from_pydict(store.distribution_map)"
  },
  {
   "cell_type": "code",
   "execution_count": 25,
   "metadata": {},
   "outputs": [],
   "source": "import numpy as np\nnp.savez(\"/tmp/foo.npz\", **{str(k): v for k, v in store.distribution_map.items()})"
  },
  {
   "cell_type": "code",
   "execution_count": 29,
   "metadata": {},
   "outputs": [
    {
     "name": "stdout",
     "output_type": "stream",
     "text": "-rw-rw-r-- 1 pfr pfr 47682 Jan 23 21:51 /tmp/foo.npz\n84\n"
    }
   ],
   "source": "!ls -l /tmp/foo.npz\nprint(len(store.distribution_map))"
  },
  {
   "cell_type": "code",
   "execution_count": 31,
   "metadata": {},
   "outputs": [
    {
     "name": "stderr",
     "output_type": "stream",
     "text": "Exception ignored in: <bound method ZipFile.__del__ of <zipfile.ZipFile [closed]>>\nTraceback (most recent call last):\n  File \"/usr/lib/python3.6/zipfile.py\", line 1686, in __del__\n    self.close()\n  File \"/usr/lib/python3.6/zipfile.py\", line 1703, in close\n    self.fp.seek(self.start_dir)\nValueError: I/O operation on closed file.\n"
    },
    {
     "ename": "TypeError",
     "evalue": "Object of type 'MoveCountDistribution' is not JSON serializable",
     "output_type": "error",
     "traceback": [
      "\u001b[0;31m---------------------------------------------------------------------------\u001b[0m",
      "\u001b[0;31mTypeError\u001b[0m                                 Traceback (most recent call last)",
      "\u001b[0;32m<ipython-input-31-8eea3f296f59>\u001b[0m in \u001b[0;36m<module>\u001b[0;34m()\u001b[0m\n\u001b[1;32m      1\u001b[0m \u001b[0;32mimport\u001b[0m \u001b[0mjson\u001b[0m\u001b[0;34m\u001b[0m\u001b[0;34m\u001b[0m\u001b[0m\n\u001b[1;32m      2\u001b[0m \u001b[0;32mwith\u001b[0m \u001b[0mopen\u001b[0m\u001b[0;34m(\u001b[0m\u001b[0;34m\"/tmp/foo.json\"\u001b[0m\u001b[0;34m,\u001b[0m \u001b[0;34m\"w\"\u001b[0m\u001b[0;34m)\u001b[0m \u001b[0;32mas\u001b[0m \u001b[0mf\u001b[0m\u001b[0;34m:\u001b[0m\u001b[0;34m\u001b[0m\u001b[0;34m\u001b[0m\u001b[0m\n\u001b[0;32m----> 3\u001b[0;31m     \u001b[0mjson\u001b[0m\u001b[0;34m.\u001b[0m\u001b[0mdump\u001b[0m\u001b[0;34m(\u001b[0m\u001b[0mstore\u001b[0m\u001b[0;34m.\u001b[0m\u001b[0mdistribution_map\u001b[0m\u001b[0;34m,\u001b[0m \u001b[0mf\u001b[0m\u001b[0;34m)\u001b[0m\u001b[0;34m\u001b[0m\u001b[0;34m\u001b[0m\u001b[0m\n\u001b[0m",
      "\u001b[0;32m/usr/lib/python3.6/json/__init__.py\u001b[0m in \u001b[0;36mdump\u001b[0;34m(obj, fp, skipkeys, ensure_ascii, check_circular, allow_nan, cls, indent, separators, default, sort_keys, **kw)\u001b[0m\n\u001b[1;32m    177\u001b[0m     \u001b[0;31m# could accelerate with writelines in some versions of Python, at\u001b[0m\u001b[0;34m\u001b[0m\u001b[0;34m\u001b[0m\u001b[0;34m\u001b[0m\u001b[0m\n\u001b[1;32m    178\u001b[0m     \u001b[0;31m# a debuggability cost\u001b[0m\u001b[0;34m\u001b[0m\u001b[0;34m\u001b[0m\u001b[0;34m\u001b[0m\u001b[0m\n\u001b[0;32m--> 179\u001b[0;31m     \u001b[0;32mfor\u001b[0m \u001b[0mchunk\u001b[0m \u001b[0;32min\u001b[0m \u001b[0miterable\u001b[0m\u001b[0;34m:\u001b[0m\u001b[0;34m\u001b[0m\u001b[0;34m\u001b[0m\u001b[0m\n\u001b[0m\u001b[1;32m    180\u001b[0m         \u001b[0mfp\u001b[0m\u001b[0;34m.\u001b[0m\u001b[0mwrite\u001b[0m\u001b[0;34m(\u001b[0m\u001b[0mchunk\u001b[0m\u001b[0;34m)\u001b[0m\u001b[0;34m\u001b[0m\u001b[0;34m\u001b[0m\u001b[0m\n\u001b[1;32m    181\u001b[0m \u001b[0;34m\u001b[0m\u001b[0m\n",
      "\u001b[0;32m/usr/lib/python3.6/json/encoder.py\u001b[0m in \u001b[0;36m_iterencode\u001b[0;34m(o, _current_indent_level)\u001b[0m\n\u001b[1;32m    428\u001b[0m             \u001b[0;32myield\u001b[0m \u001b[0;32mfrom\u001b[0m \u001b[0m_iterencode_list\u001b[0m\u001b[0;34m(\u001b[0m\u001b[0mo\u001b[0m\u001b[0;34m,\u001b[0m \u001b[0m_current_indent_level\u001b[0m\u001b[0;34m)\u001b[0m\u001b[0;34m\u001b[0m\u001b[0;34m\u001b[0m\u001b[0m\n\u001b[1;32m    429\u001b[0m         \u001b[0;32melif\u001b[0m \u001b[0misinstance\u001b[0m\u001b[0;34m(\u001b[0m\u001b[0mo\u001b[0m\u001b[0;34m,\u001b[0m \u001b[0mdict\u001b[0m\u001b[0;34m)\u001b[0m\u001b[0;34m:\u001b[0m\u001b[0;34m\u001b[0m\u001b[0;34m\u001b[0m\u001b[0m\n\u001b[0;32m--> 430\u001b[0;31m             \u001b[0;32myield\u001b[0m \u001b[0;32mfrom\u001b[0m \u001b[0m_iterencode_dict\u001b[0m\u001b[0;34m(\u001b[0m\u001b[0mo\u001b[0m\u001b[0;34m,\u001b[0m \u001b[0m_current_indent_level\u001b[0m\u001b[0;34m)\u001b[0m\u001b[0;34m\u001b[0m\u001b[0;34m\u001b[0m\u001b[0m\n\u001b[0m\u001b[1;32m    431\u001b[0m         \u001b[0;32melse\u001b[0m\u001b[0;34m:\u001b[0m\u001b[0;34m\u001b[0m\u001b[0;34m\u001b[0m\u001b[0m\n\u001b[1;32m    432\u001b[0m             \u001b[0;32mif\u001b[0m \u001b[0mmarkers\u001b[0m \u001b[0;32mis\u001b[0m \u001b[0;32mnot\u001b[0m \u001b[0;32mNone\u001b[0m\u001b[0;34m:\u001b[0m\u001b[0;34m\u001b[0m\u001b[0;34m\u001b[0m\u001b[0m\n",
      "\u001b[0;32m/usr/lib/python3.6/json/encoder.py\u001b[0m in \u001b[0;36m_iterencode_dict\u001b[0;34m(dct, _current_indent_level)\u001b[0m\n\u001b[1;32m    402\u001b[0m                 \u001b[0;32melse\u001b[0m\u001b[0;34m:\u001b[0m\u001b[0;34m\u001b[0m\u001b[0;34m\u001b[0m\u001b[0m\n\u001b[1;32m    403\u001b[0m                     \u001b[0mchunks\u001b[0m \u001b[0;34m=\u001b[0m \u001b[0m_iterencode\u001b[0m\u001b[0;34m(\u001b[0m\u001b[0mvalue\u001b[0m\u001b[0;34m,\u001b[0m \u001b[0m_current_indent_level\u001b[0m\u001b[0;34m)\u001b[0m\u001b[0;34m\u001b[0m\u001b[0;34m\u001b[0m\u001b[0m\n\u001b[0;32m--> 404\u001b[0;31m                 \u001b[0;32myield\u001b[0m \u001b[0;32mfrom\u001b[0m \u001b[0mchunks\u001b[0m\u001b[0;34m\u001b[0m\u001b[0;34m\u001b[0m\u001b[0m\n\u001b[0m\u001b[1;32m    405\u001b[0m         \u001b[0;32mif\u001b[0m \u001b[0mnewline_indent\u001b[0m \u001b[0;32mis\u001b[0m \u001b[0;32mnot\u001b[0m \u001b[0;32mNone\u001b[0m\u001b[0;34m:\u001b[0m\u001b[0;34m\u001b[0m\u001b[0;34m\u001b[0m\u001b[0m\n\u001b[1;32m    406\u001b[0m             \u001b[0m_current_indent_level\u001b[0m \u001b[0;34m-=\u001b[0m \u001b[0;36m1\u001b[0m\u001b[0;34m\u001b[0m\u001b[0;34m\u001b[0m\u001b[0m\n",
      "\u001b[0;32m/usr/lib/python3.6/json/encoder.py\u001b[0m in \u001b[0;36m_iterencode\u001b[0;34m(o, _current_indent_level)\u001b[0m\n\u001b[1;32m    435\u001b[0m                     \u001b[0;32mraise\u001b[0m \u001b[0mValueError\u001b[0m\u001b[0;34m(\u001b[0m\u001b[0;34m\"Circular reference detected\"\u001b[0m\u001b[0;34m)\u001b[0m\u001b[0;34m\u001b[0m\u001b[0;34m\u001b[0m\u001b[0m\n\u001b[1;32m    436\u001b[0m                 \u001b[0mmarkers\u001b[0m\u001b[0;34m[\u001b[0m\u001b[0mmarkerid\u001b[0m\u001b[0;34m]\u001b[0m \u001b[0;34m=\u001b[0m \u001b[0mo\u001b[0m\u001b[0;34m\u001b[0m\u001b[0;34m\u001b[0m\u001b[0m\n\u001b[0;32m--> 437\u001b[0;31m             \u001b[0mo\u001b[0m \u001b[0;34m=\u001b[0m \u001b[0m_default\u001b[0m\u001b[0;34m(\u001b[0m\u001b[0mo\u001b[0m\u001b[0;34m)\u001b[0m\u001b[0;34m\u001b[0m\u001b[0;34m\u001b[0m\u001b[0m\n\u001b[0m\u001b[1;32m    438\u001b[0m             \u001b[0;32myield\u001b[0m \u001b[0;32mfrom\u001b[0m \u001b[0m_iterencode\u001b[0m\u001b[0;34m(\u001b[0m\u001b[0mo\u001b[0m\u001b[0;34m,\u001b[0m \u001b[0m_current_indent_level\u001b[0m\u001b[0;34m)\u001b[0m\u001b[0;34m\u001b[0m\u001b[0;34m\u001b[0m\u001b[0m\n\u001b[1;32m    439\u001b[0m             \u001b[0;32mif\u001b[0m \u001b[0mmarkers\u001b[0m \u001b[0;32mis\u001b[0m \u001b[0;32mnot\u001b[0m \u001b[0;32mNone\u001b[0m\u001b[0;34m:\u001b[0m\u001b[0;34m\u001b[0m\u001b[0;34m\u001b[0m\u001b[0m\n",
      "\u001b[0;32m/usr/lib/python3.6/json/encoder.py\u001b[0m in \u001b[0;36mdefault\u001b[0;34m(self, o)\u001b[0m\n\u001b[1;32m    178\u001b[0m         \"\"\"\n\u001b[1;32m    179\u001b[0m         raise TypeError(\"Object of type '%s' is not JSON serializable\" %\n\u001b[0;32m--> 180\u001b[0;31m                         o.__class__.__name__)\n\u001b[0m\u001b[1;32m    181\u001b[0m \u001b[0;34m\u001b[0m\u001b[0m\n\u001b[1;32m    182\u001b[0m     \u001b[0;32mdef\u001b[0m \u001b[0mencode\u001b[0m\u001b[0;34m(\u001b[0m\u001b[0mself\u001b[0m\u001b[0;34m,\u001b[0m \u001b[0mo\u001b[0m\u001b[0;34m)\u001b[0m\u001b[0;34m:\u001b[0m\u001b[0;34m\u001b[0m\u001b[0;34m\u001b[0m\u001b[0m\n",
      "\u001b[0;31mTypeError\u001b[0m: Object of type 'MoveCountDistribution' is not JSON serializable"
     ]
    }
   ],
   "source": "import json\nwith open(\"/tmp/foo.json\", \"w\") as f:\n    json.dump(store.distribution_map, f)"
  },
  {
   "cell_type": "code",
   "execution_count": 50,
   "metadata": {},
   "outputs": [],
   "source": "import h5py\nwith h5py.File(\"/tmp/foo.hdf5\", \"w\") as f:\n    dist_map_grp = f.create_group(\"distribution_map\")\n    for board_idx, mcd in store.distribution_map.items():\n        #print(mcd)\n        dist_map_grp.create_dataset(str(board_idx), data=mcd.dist)\n    config_grp = f.create_group(\"config\")\n    config_grp.create_dataset(\"foo\", data=[1.23])"
  },
  {
   "cell_type": "code",
   "execution_count": 51,
   "metadata": {},
   "outputs": [
    {
     "name": "stdout",
     "output_type": "stream",
     "text": "-rw-rw-r-- 1 pfr pfr 37440 Jan 23 22:34 /tmp/foo.hdf5\r\n"
    }
   ],
   "source": "!ls -l /tmp/foo.hdf5"
  },
  {
   "cell_type": "code",
   "execution_count": 52,
   "metadata": {},
   "outputs": [
    {
     "name": "stdout",
     "output_type": "stream",
     "text": "Board 111\nMCD(1.000000, [0. 1.])\n0 4 oooo \n1 2 oo   \n2 0      \n3 0      \n\nBoard 119\nMCD(1.833333, [0.         0.16666667 0.83333333])\n0 3 ooo \n1 3 ooo \n2 0     \n3 0     \n\nBoard 123\nMCD(1.833333, [0.         0.16666667 0.83333333])\n0 2 oo   \n1 4 oooo \n2 0      \n3 0      \n\nBoard 125\nMCD(2.694444, [0.         0.         0.30555556 0.69444444])\n0 1 o     \n1 5 ooooo \n2 0       \n3 0       \n\nBoard 126\nMCD(2.694444, [0.         0.         0.30555556 0.69444444])\n0 0        \n1 6 oooooo \n2 0        \n3 0        \n\nBoard 159\nMCD(1.000000, [0. 1.])\n0 5 ooooo \n1 0       \n2 1 o     \n3 0       \n\nBoard 175\nMCD(1.000000, [0. 1.])\n0 4 oooo \n1 1 o    \n2 1 o    \n3 0      \n\nBoard 183\nMCD(1.833333, [0.         0.16666667 0.83333333])\n0 3 ooo \n1 2 oo  \n2 1 o   \n3 0     \n\nBoard 187\nMCD(1.861111, [0.         0.13888889 0.86111111])\n0 2 oo  \n1 3 ooo \n2 1 o   \n3 0     \n\nBoard 189\nMCD(2.694444, [0.         0.         0.30555556 0.69444444])\n0 1 o    \n1 4 oooo \n2 1 o    \n3 0      \n\nBoard 190\nMCD(2.694444, [0.         0.         0.30555556 0.69444444])\n0 0       \n1 5 ooooo \n2 1 o     \n3 0       \n\nBoard 207\nMCD(1.277778, [0.         0.72222222 0.27777778])\n0 4 oooo \n1 0      \n2 2 oo   \n3 0      \n\nBoard 215\nMCD(1.861111, [0.         0.13888889 0.86111111])\n0 3 ooo \n1 1 o   \n2 2 oo  \n3 0     \n\nBoard 219\nMCD(1.861111, [0.         0.13888889 0.86111111])\n0 2 oo \n1 2 oo \n2 2 oo \n3 0    \n\nBoard 221\nMCD(2.694444, [0.         0.         0.30555556 0.69444444])\n0 1 o   \n1 3 ooo \n2 2 oo  \n3 0     \n\nBoard 222\nMCD(2.709877, [0.         0.         0.29012346 0.70987654])\n0 0      \n1 4 oooo \n2 2 oo   \n3 0      \n\nBoard 231\nMCD(1.861111, [0.         0.13888889 0.86111111])\n0 3 ooo \n1 0     \n2 3 ooo \n3 0     \n\nBoard 235\nMCD(1.938272, [0.         0.13888889 0.78395062 0.07716049])\n0 2 oo  \n1 1 o   \n2 3 ooo \n3 0     \n\nBoard 237\nMCD(2.709877, [0.         0.         0.29012346 0.70987654])\n0 1 o   \n1 2 oo  \n2 3 ooo \n3 0     \n\nBoard 238\nMCD(2.741512, [0.         0.         0.25848765 0.74151235])\n0 0     \n1 3 ooo \n2 3 ooo \n3 0     \n\nBoard 243\nMCD(2.262346, [0.         0.13888889 0.45987654 0.40123457])\n0 2 oo   \n1 0      \n2 4 oooo \n3 0      \n\nBoard 245\nMCD(2.741512, [0.         0.         0.25848765 0.74151235])\n0 1 o    \n1 1 o    \n2 4 oooo \n3 0      \n\nBoard 246\nMCD(2.762946, [0.         0.         0.25848765 0.72007888 0.02143347])\n0 0      \n1 2 oo   \n2 4 oooo \n3 0      \n\nBoard 249\nMCD(2.762946, [0.         0.         0.25848765 0.72007888 0.02143347])\n0 1 o     \n1 0       \n2 5 ooooo \n3 0       \n\nBoard 250\nMCD(2.897977, [0.         0.         0.25848765 0.58504801 0.15646433])\n0 0       \n1 1 o     \n2 5 ooooo \n3 0       \n\nBoard 252\nMCD(3.258702, [0.         0.         0.18132716 0.37864369 0.44002915])\n0 0        \n1 0        \n2 6 oooooo \n3 0        \n\nBoard 287\nMCD(1.000000, [0. 1.])\n0 5 ooooo \n1 0       \n2 0       \n3 1 o     \n\nBoard 303\nMCD(1.055556, [0.         0.94444444 0.05555556])\n0 4 oooo \n1 1 o    \n2 0      \n3 1 o    \n\nBoard 311\nMCD(1.861111, [0.         0.13888889 0.86111111])\n0 3 ooo \n1 2 oo  \n2 0     \n3 1 o   \n\nBoard 315\nMCD(1.935185, [0.         0.11111111 0.84259259 0.0462963 ])\n0 2 oo  \n1 3 ooo \n2 0     \n3 1 o   \n\nBoard 317\nMCD(2.694444, [0.         0.         0.30555556 0.69444444])\n0 1 o    \n1 4 oooo \n2 0      \n3 1 o    \n\nBoard 318\nMCD(2.766975, [0.         0.         0.27160494 0.68981481 0.03858025])\n0 0       \n1 5 ooooo \n2 0       \n3 1 o     \n\nBoard 335\nMCD(1.305556, [0.         0.69444444 0.30555556])\n0 4 oooo \n1 0      \n2 1 o    \n3 1 o    \n\nBoard 343\nMCD(1.861111, [0.         0.13888889 0.86111111])\n0 3 ooo \n1 1 o   \n2 1 o   \n3 1 o   \n\nBoard 347\nMCD(1.891975, [0.         0.11111111 0.88580247 0.00308642])\n0 2 oo \n1 2 oo \n2 1 o  \n3 1 o  \n\nBoard 349\nMCD(2.697531, [0.         0.         0.30246914 0.69753086])\n0 1 o   \n1 3 ooo \n2 1 o   \n3 1 o   \n\nBoard 350\nMCD(2.737912, [0.         0.         0.26466049 0.73276749 0.00257202])\n0 0      \n1 4 oooo \n2 1 o    \n3 1 o    \n\nBoard 359\nMCD(1.864198, [0.         0.13888889 0.85802469 0.00308642])\n0 3 ooo \n1 0     \n2 2 oo  \n3 1 o   \n\nBoard 363\nMCD(1.969136, [0.         0.11111111 0.80864198 0.08024691])\n0 2 oo \n1 1 o  \n2 2 oo \n3 1 o  \n\nBoard 365\nMCD(2.710648, [0.         0.         0.28935185 0.71064815])\n0 1 o  \n1 2 oo \n2 2 oo \n3 1 o  \n\nBoard 366\nMCD(2.766375, [0.00000000e+00 0.00000000e+00 2.33796296e-01 7.66032236e-01\n 1.71467764e-04])\n0 0     \n1 3 ooo \n2 2 oo  \n3 1 o   \n\nBoard 371\nMCD(2.290895, [0.         0.11111111 0.48688272 0.40200617])\n0 2 oo  \n1 0     \n2 3 ooo \n3 1 o   \n\nBoard 373\nMCD(2.741684, [0.00000000e+00 0.00000000e+00 2.58487654e-01 7.41340878e-01\n 1.71467764e-04])\n0 1 o   \n1 1 o   \n2 3 ooo \n3 1 o   \n\nBoard 374\nMCD(2.787894, [0.         0.         0.2337963  0.74451303 0.02169067])\n0 0     \n1 2 oo  \n2 3 ooo \n3 1 o   \n\nBoard 377\nMCD(2.764746, [0.         0.         0.25694444 0.72136488 0.02169067])\n0 1 o    \n1 0      \n2 4 oooo \n3 1 o    \n\nBoard 378\nMCD(2.901963, [0.         0.         0.25462963 0.58877743 0.15659294])\n0 0      \n1 1 o    \n2 4 oooo \n3 1 o    \n\nBoard 380\nMCD(3.260276, [0.00000000e+00 0.00000000e+00 1.79783951e-01 3.80165466e-01\n 4.40041057e-01 9.52598689e-06])\n0 0       \n1 0       \n2 5 ooooo \n3 1 o     \n\nBoard 399\nMCD(1.527778, [0.         0.47222222 0.52777778])\n0 4 oooo \n1 0      \n2 0      \n3 2 oo   \n\nBoard 407\nMCD(1.891975, [0.         0.11111111 0.88580247 0.00308642])\n0 3 ooo \n1 1 o   \n2 0     \n3 2 oo  \n\nBoard 411\nMCD(2.135802, [0.         0.11111111 0.64197531 0.24691358])\n0 2 oo \n1 2 oo \n2 0    \n3 2 oo \n\nBoard 413\nMCD(2.737912, [0.         0.         0.26466049 0.73276749 0.00257202])\n0 1 o   \n1 3 ooo \n2 0     \n3 2 oo  \n\nBoard 414\nMCD(2.994084, [0.         0.         0.20910494 0.58770576 0.2031893 ])\n0 0      \n1 4 oooo \n2 0      \n3 2 oo   \n\nBoard 423\nMCD(1.919753, [0.         0.11111111 0.85802469 0.0308642 ])\n0 3 ooo \n1 0     \n2 1 o   \n3 2 oo  \n\nBoard 427\nMCD(2.006944, [0.         0.11111111 0.77083333 0.11805556])\n0 2 oo \n1 1 o  \n2 1 o  \n3 2 oo \n\nBoard 429\nMCD(2.747857, [0.00000000e+00 0.00000000e+00 2.52314815e-01 7.47513717e-01\n 1.71467764e-04])\n0 1 o  \n1 2 oo \n2 1 o  \n3 2 oo \n\nBoard 430\nMCD(2.803326, [0.         0.         0.22145062 0.75377229 0.02477709])\n0 0     \n1 3 ooo \n2 1 o   \n3 2 oo  \n\nBoard 435\nMCD(2.303412, [0.00000000e+00 1.11111111e-01 4.74537037e-01 4.14180384e-01\n 1.71467764e-04])\n0 2 oo \n1 0    \n2 2 oo \n3 2 oo \n\nBoard 437\nMCD(2.768690, [0.         0.         0.2337963  0.76371742 0.00248628])\n0 1 o  \n1 1 o  \n2 2 oo \n3 2 oo \n\nBoard 438\nMCD(2.805255, [0.         0.         0.22067901 0.75338649 0.0259345 ])\n0 0    \n1 2 oo \n2 2 oo \n3 2 oo \n\nBoard 441\nMCD(2.777478, [0.         0.         0.24845679 0.72560871 0.0259345 ])\n0 1 o   \n1 0     \n2 3 ooo \n3 2 oo  \n\nBoard 442\nMCD(2.939289, [0.00000000e+00 0.00000000e+00 2.19907407e-01 6.20906207e-01\n 1.59176859e-01 9.52598689e-06])\n0 0     \n1 1 o   \n2 3 ooo \n3 2 oo  \n\nBoard 444\nMCD(3.274460, [0.         0.         0.16743827 0.39191101 0.43940282 0.0012479 ])\n0 0      \n1 0      \n2 4 oooo \n3 2 oo   \n\nBoard 455\nMCD(2.006944, [0.         0.11111111 0.77083333 0.11805556])\n0 3 ooo \n1 0     \n2 0     \n3 3 ooo \n\nBoard 459\nMCD(2.303412, [0.00000000e+00 1.11111111e-01 4.74537037e-01 4.14180384e-01\n 1.71467764e-04])\n0 2 oo  \n1 1 o   \n2 0     \n3 3 ooo \n\nBoard 461\nMCD(2.803326, [0.         0.         0.22145062 0.75377229 0.02477709])\n0 1 o   \n1 2 oo  \n2 0     \n3 3 ooo \n\nBoard 462\nMCD(3.109839, [0.00000000e+00 0.00000000e+00 1.75925926e-01 5.38451646e-01\n 2.85479538e-01 1.42889803e-04])\n0 0     \n1 3 ooo \n2 0     \n3 3 ooo \n\nBoard 467\nMCD(2.398320, [0.         0.11111111 0.38194444 0.50445816 0.00248628])\n0 2 oo  \n1 0     \n2 1 o   \n3 3 ooo \n\nBoard 469\nMCD(2.794282, [0.         0.         0.22067901 0.76436043 0.01496056])\n0 1 o   \n1 1 o   \n2 1 o   \n3 3 ooo \n\nBoard 470\nMCD(2.920941, [0.00000000e+00 0.00000000e+00 2.06790123e-01 6.65487826e-01\n 1.27712525e-01 9.52598689e-06])\n0 0     \n1 2 oo  \n2 1 o   \n3 3 ooo \n\nBoard 473\nMCD(2.840523, [0.00000000e+00 0.00000000e+00 2.19907407e-01 7.19671639e-01\n 6.04114274e-02 9.52598689e-06])\n0 1 o   \n1 0     \n2 2 oo  \n3 3 ooo \n\nBoard 474\nMCD(2.976326, [0.00000000e+00 0.00000000e+00 2.09876543e-01 6.04102366e-01\n 1.85840097e-01 1.80993751e-04])\n0 0     \n1 1 o   \n2 2 oo  \n3 3 ooo \n\nBoard 476\nMCD(3.305344, [0.         0.         0.14814815 0.40472822 0.44075551 0.00636812])\n0 0     \n1 0     \n2 3 ooo \n3 3 ooo \n\nBoard 483\nMCD(2.572059, [0.         0.11111111 0.22067901 0.65324931 0.01496056])\n0 2 oo   \n1 0      \n2 0      \n3 4 oooo \n\nBoard 485\nMCD(2.920941, [0.00000000e+00 0.00000000e+00 2.06790123e-01 6.65487826e-01\n 1.27712525e-01 9.52598689e-06])\n0 1 o    \n1 1 o    \n2 0      \n3 4 oooo \n\nBoard 486\nMCD(3.237909, [0.         0.         0.17592593 0.41222994 0.4098532  0.00199093])\n0 0      \n1 2 oo   \n2 0      \n3 4 oooo \n\nBoard 489\nMCD(2.959865, [0.00000000e+00 0.00000000e+00 2.09876543e-01 6.20563272e-01\n 1.69379191e-01 1.80993751e-04])\n0 1 o    \n1 0      \n2 1 o    \n3 4 oooo \n\nBoard 490\nMCD(3.109280, [0.         0.         0.20679012 0.47863083 0.31308823 0.00149082])\n0 0      \n1 1 o    \n2 1 o    \n3 4 oooo \n\nBoard 492\nMCD(3.348537, [0.00000000e+00 0.00000000e+00 1.48148148e-01 3.65312071e-01\n 4.76394604e-01 1.01446468e-02 5.29221494e-07])\n0 0      \n1 0      \n2 2 oo   \n3 4 oooo \n\nBoard 497\nMCD(3.109280, [0.         0.         0.20679012 0.47863083 0.31308823 0.00149082])\n0 1 o     \n1 0       \n2 0       \n3 5 ooooo \n\nBoard 498\nMCD(3.390199, [0.00000000e+00 0.00000000e+00 1.69753086e-01 2.87765775e-01\n 5.25010479e-01 1.74701307e-02 5.29221494e-07])\n0 0       \n1 1 o     \n2 0       \n3 5 ooooo \n\nBoard 500\nMCD(3.466691, [0.00000000e+00 0.00000000e+00 1.38888889e-01 2.84293553e-01\n 5.48067534e-01 2.87375871e-02 1.24367051e-05])\n0 0       \n1 0       \n2 1 o     \n3 5 ooooo \n\nBoard 504\nMCD(3.672077, [0.00000000e+00 0.00000000e+00 8.95061728e-02 2.47920953e-01\n 5.63692534e-01 9.87501508e-02 1.30188488e-04])\n0 0        \n1 0        \n2 0        \n3 6 oooooo \n\nBoard 63\nMCD(0.000000, [1])\n0 6 oooooo \n1 0        \n2 0        \n3 0        \n\nBoard 95\nMCD(1.000000, [0. 1.])\n0 5 ooooo \n1 1 o     \n2 0       \n3 0       \n\nNone\n"
    }
   ],
   "source": "new_store = strategy.DistributionStore(config)\nwith h5py.File(\"/tmp/foo.hdf5\", \"r\") as f:\n    for board_idx, arr in f[\"distribution_map\"].items():\n        new_store.distribution_map[int(board_idx)] = strategy.MoveCountDistribution(arr)\nprint(new_store.pretty_string())"
  },
  {
   "cell_type": "code",
   "execution_count": 53,
   "metadata": {},
   "outputs": [
    {
     "name": "stdout",
     "output_type": "stream",
     "text": "84\n84\n"
    }
   ],
   "source": "print(len(store.distribution_map))\nprint(len(new_store.distribution_map))"
  },
  {
   "cell_type": "code",
   "execution_count": 42,
   "metadata": {},
   "outputs": [
    {
     "data": {
      "text/plain": "True"
     },
     "execution_count": 42,
     "metadata": {},
     "output_type": "execute_result"
    }
   ],
   "source": "set(store.distribution_map.keys()) == set(new_store.distribution_map.keys())"
  },
  {
   "cell_type": "code",
   "execution_count": null,
   "metadata": {},
   "outputs": [],
   "source": ""
  }
 ],
 "metadata": {
  "kernelspec": {
   "display_name": "Python 3",
   "language": "python",
   "name": "python3"
  },
  "language_info": {
   "codemirror_mode": {
    "name": "ipython",
    "version": 3
   },
   "file_extension": ".py",
   "mimetype": "text/x-python",
   "name": "python",
   "nbconvert_exporter": "python",
   "pygments_lexer": "ipython3",
   "version": "3.6.9"
  }
 },
 "nbformat": 4,
 "nbformat_minor": 4
}
