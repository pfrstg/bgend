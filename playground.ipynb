{
 "cells": [
  {
   "cell_type": "code",
   "execution_count": 2,
   "metadata": {},
   "outputs": [],
   "source": "%load_ext autoreload\n%autoreload 2"
  },
  {
   "cell_type": "code",
   "execution_count": 3,
   "metadata": {},
   "outputs": [],
   "source": "import board"
  },
  {
   "cell_type": "code",
   "execution_count": 4,
   "metadata": {},
   "outputs": [
    {
     "data": {
      "text/plain": "Move(spot=6, counts=4)"
     },
     "execution_count": 4,
     "metadata": {},
     "output_type": "execute_result"
    }
   ],
   "source": "board.Move(6, 4)"
  },
  {
   "cell_type": "code",
   "execution_count": 5,
   "metadata": {},
   "outputs": [
    {
     "data": {
      "text/plain": "range(1, 6)"
     },
     "execution_count": 5,
     "metadata": {},
     "output_type": "execute_result"
    }
   ],
   "source": "range(1, 6)"
  },
  {
   "cell_type": "code",
   "execution_count": null,
   "metadata": {},
   "outputs": [],
   "source": "import itertools"
  },
  {
   "cell_type": "code",
   "execution_count": 8,
   "metadata": {},
   "outputs": [],
   "source": "out = []\nfor d1, d2 in itertools.combinations_with_replacement(range(1, 7), 2):\n    if (d1 == d2):\n        out.append(board.Roll([d1, d1, d1, d1], 1/36))\n    else:\n        out.append(board.Roll([d1, d2], 1/18))"
  },
  {
   "cell_type": "code",
   "execution_count": 9,
   "metadata": {},
   "outputs": [
    {
     "name": "stdout",
     "output_type": "stream",
     "text": "[Roll(dice=[1, 1, 1, 1], prob=0.027777777777777776), Roll(dice=[1, 2], prob=0.05555555555555555), Roll(dice=[1, 3], prob=0.05555555555555555), Roll(dice=[1, 4], prob=0.05555555555555555), Roll(dice=[1, 5], prob=0.05555555555555555), Roll(dice=[1, 6], prob=0.05555555555555555), Roll(dice=[2, 2, 2, 2], prob=0.027777777777777776), Roll(dice=[2, 3], prob=0.05555555555555555), Roll(dice=[2, 4], prob=0.05555555555555555), Roll(dice=[2, 5], prob=0.05555555555555555), Roll(dice=[2, 6], prob=0.05555555555555555), Roll(dice=[3, 3, 3, 3], prob=0.027777777777777776), Roll(dice=[3, 4], prob=0.05555555555555555), Roll(dice=[3, 5], prob=0.05555555555555555), Roll(dice=[3, 6], prob=0.05555555555555555), Roll(dice=[4, 4, 4, 4], prob=0.027777777777777776), Roll(dice=[4, 5], prob=0.05555555555555555), Roll(dice=[4, 6], prob=0.05555555555555555), Roll(dice=[5, 5, 5, 5], prob=0.027777777777777776), Roll(dice=[5, 6], prob=0.05555555555555555), Roll(dice=[6, 6, 6, 6], prob=0.027777777777777776)]\n"
    }
   ],
   "source": "print (out)"
  },
  {
   "cell_type": "code",
   "execution_count": 12,
   "metadata": {},
   "outputs": [
    {
     "data": {
      "text/plain": "[Roll(dice=[1, 1, 1, 1], prob=0.027777777777777776),\n Roll(dice=[1, 2], prob=0.05555555555555555),\n Roll(dice=[1, 3], prob=0.05555555555555555),\n Roll(dice=[1, 4], prob=0.05555555555555555),\n Roll(dice=[1, 5], prob=0.05555555555555555),\n Roll(dice=[1, 6], prob=0.05555555555555555),\n Roll(dice=[2, 2, 2, 2], prob=0.027777777777777776),\n Roll(dice=[2, 3], prob=0.05555555555555555),\n Roll(dice=[2, 4], prob=0.05555555555555555),\n Roll(dice=[2, 5], prob=0.05555555555555555),\n Roll(dice=[2, 6], prob=0.05555555555555555),\n Roll(dice=[3, 3, 3, 3], prob=0.027777777777777776),\n Roll(dice=[3, 4], prob=0.05555555555555555),\n Roll(dice=[3, 5], prob=0.05555555555555555),\n Roll(dice=[3, 6], prob=0.05555555555555555),\n Roll(dice=[4, 4, 4, 4], prob=0.027777777777777776),\n Roll(dice=[4, 5], prob=0.05555555555555555),\n Roll(dice=[4, 6], prob=0.05555555555555555),\n Roll(dice=[5, 5, 5, 5], prob=0.027777777777777776),\n Roll(dice=[5, 6], prob=0.05555555555555555),\n Roll(dice=[6, 6, 6, 6], prob=0.027777777777777776)]"
     },
     "execution_count": 12,
     "metadata": {},
     "output_type": "execute_result"
    }
   ],
   "source": "board.ROLLS"
  },
  {
   "cell_type": "code",
   "execution_count": null,
   "metadata": {},
   "outputs": [],
   "source": ""
  }
 ],
 "metadata": {
  "kernelspec": {
   "display_name": "Python 3",
   "language": "python",
   "name": "python3"
  },
  "language_info": {
   "codemirror_mode": {
    "name": "ipython",
    "version": 3
   },
   "file_extension": ".py",
   "mimetype": "text/x-python",
   "name": "python",
   "nbconvert_exporter": "python",
   "pygments_lexer": "ipython3",
   "version": "3.6.9"
  }
 },
 "nbformat": 4,
 "nbformat_minor": 4
}
